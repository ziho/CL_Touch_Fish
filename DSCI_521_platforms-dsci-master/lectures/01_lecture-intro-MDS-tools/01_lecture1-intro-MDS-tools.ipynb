{
 "cells": [
  {
   "cell_type": "markdown",
   "metadata": {},
   "source": [
    "# DSCI 521 - Computing Platforms for Data Science\n",
    "\n",
    "\n",
    "## Lecture 1 - Introduction to the shell\n",
    "\n",
    "\n",
    "### 2018-09-04"
   ]
  },
  {
   "cell_type": "markdown",
   "metadata": {},
   "source": [
    "# High-level goal of this course:\n",
    "\n",
    "Get you up to speed on how to use the essential software pieces of our Data Science stack."
   ]
  },
  {
   "cell_type": "markdown",
   "metadata": {},
   "source": [
    "# Essential Data Science stack we will be using\n",
    "\n",
    "\n",
    "| Software | What for? | Why? |\n",
    "|----------|---------|---------------|\n",
    "| <p align=\"left\">Bash Shell |<ul><li>  <p align=\"left\">Navigate filesystem </li><li> <p align=\"left\">Install Software </li><li> <p align=\"left\">Run automated scripts and pipelines </li></ul> | <ul><li> <p align=\"left\">Makes automation easy </li><li> <p align=\"left\">Has stood the test of time </li><li> <p align=\"left\">Open Source </li></ul> |\n",
    "| <p align=\"left\">Atom | <p align=\"left\">Edit text documents | <ul><li> <p align=\"left\">General purpose and modern <li> <p align=\"left\">Easy to install </li><li> <p align=\"left\">Active development and maintainance by Github </li><li> <p align=\"left\">Open Source </li></ul> |\n",
    "| <p align=\"left\">Git | <p align=\"left\">Manage the Versioning of your projects | <ul><li> <p align=\"left\">Fits well with Github <li> <p align=\"left\">Local and Remote <li> <p align=\"left\">Popular <li> <p align=\"left\">Open source </li></ul> |\n",
    "| <p align=\"left\">Python | <p align=\"left\">Programming for: <ul><li> <p align=\"left\">Statistics </li><li> <p align=\"left\">Visualization </li><li> <p align=\"left\">Machine Learning </li></ul> | <ul><li> <p align=\"left\">Popular </li><li> <p align=\"left\">Active development community </li><li> <p align=\"left\">Readable </li><li> <p align=\"left\">Open Source </li></ul> |\n",
    "| <p align=\"left\">R | <p align=\"left\">Programming for: <ul><li> <p align=\"left\">Statistics </li><li> <p align=\"left\">Visualization </li><li> <p align=\"left\">Machine Learning </li></ul> | <ul><li> <p align=\"left\">Popular </li><li> <p align=\"left\">Active development community </li><li> <p align=\"left\">Open Source </li></ul> |\n",
    "| <p align=\"left\">Jupyter Notebook | <p align=\"left\">Interactively develop: <ul><li> <p align=\"left\">Python </li><li> <p align=\"left\">R </li><li> <p align=\"left\">Julia </li></ul> | <ul><li> <p align=\"left\">Popular </li><li> <p align=\"left\">Great for analytic reports </li><li> <p align=\"left\">Open Source </li></ul> |\n",
    "| <p align=\"left\">RStudio | <p align=\"left\">Interactively develop R projects | <ul><li> <p align=\"left\">Popular </li><li> <p align=\"left\">Great for script development </li><li> <p align=\"left\">Great for analytic reports </li><li> <p align=\"left\">Has notebook feature </li><li> <p align=\"left\">Open Source </li></ul> |\n",
    "\n",
    "*note - there are other small programs we will install and use later (e.g., Make, SQLite, Docker, MapReduce, etc), but those listed above are the essentials*"
   ]
  },
  {
   "cell_type": "markdown",
   "metadata": {},
   "source": [
    "## Why do we focus on Open Source?\n",
    "\n",
    "- You wil be able to use the Software after you leave school without paying exorbitant amounts of money;\n",
    "- You have access to the source code for the Software you depend on  - you can find out/test how good it is *(even closed source, Commercial Software has bugs, they are just harder to see...)*;\n",
    "- Open Source software is customizable and flexible;\n",
    "- It's becoming the standard in many trailblazing companies;\n",
    "- You are part of an awesome and active community!"
   ]
  },
  {
   "cell_type": "markdown",
   "metadata": {},
   "source": [
    "## Why do we focus on Python & R?\n",
    "\n",
    "\n",
    "- Both are in the top 10 most popular programming languages\n",
    "\n",
    "<img src=\"https://spectrum.ieee.org/image/MzExNjk1OA.jpeg\" width=\"500\"/>\n",
    "\n",
    "*source: https://spectrum.ieee.org/at-work/innovation/the-2018-top-programming-languages*\n",
    "\n",
    "- Well suited for a large range of applications"
   ]
  },
  {
   "cell_type": "markdown",
   "metadata": {},
   "source": [
    "## Why the focus on Python & R?\n",
    "\n",
    "- Additionally, they are the top 2 most frequently used analytics / data science software\n",
    "\n",
    "<img src=\"https://www.kdnuggets.com/images/top-analytics-data-science-machine-learning-software-2015-2017.jpg\" width=\"500\"/>\n",
    "\n",
    "*source: https://www.kdnuggets.com/2017/05/poll-analytics-data-science-machine-learning-software-leaders.html*\n",
    "\n",
    "- Growing and (mostly) welcoming communities."
   ]
  },
  {
   "cell_type": "markdown",
   "metadata": {},
   "source": [
    "# Course syllabus:  \n",
    "- https://github.ubc.ca/MDS-2018-19/DSCI_521_platforms-dsci_students/blob/master/README.md"
   ]
  },
  {
   "cell_type": "markdown",
   "metadata": {},
   "source": [
    "# First week learning goals:"
   ]
  },
  {
   "cell_type": "markdown",
   "metadata": {},
   "source": [
    "## By the end of this week, you should be able to:\n",
    "\n",
    "1. [Use the Unix command line to navigate their computer's filesystem.](#1.-Navigating-and-manipulating-the-filesystem-using-the-Shell)\n",
    "2. [Define and distinguish between absolute file paths and relative file paths.](#2.-Relative-vs-absolute-path)\n",
    "3. [Use local and remote version control software (e.g., Git and GitHub) to access, edit and submit MDS homework.](#3.-Introduction-to-local-and-remote-version-control-software)\n",
    "4. [Create, edit and run Jupyter notebooks (a type of reproducible literate code document).](#4.-Create,-edit-and-run-Jupyter-notebooks-(a-type-of-reproducible-literate-code-document))"
   ]
  },
  {
   "cell_type": "markdown",
   "metadata": {},
   "source": [
    "# 1. Navigating and manipulating the filesystem using the Shell\n",
    "\n",
    "- Navigating the filesystem can be done via your visual operating system's user interface (*e.g.,* Finder, Explorer, Nautilus, *etc*) OR using the Command line/terminal/unix shell (it comes from the Unix/Linux world, but it's available for everybody)"
   ]
  },
  {
   "cell_type": "markdown",
   "metadata": {},
   "source": [
    "## Useful unix shell commands for navigating and manipulating the filesystem:\n",
    "\n",
    "\n",
    "| Command | Purpose | Example use |\n",
    "|---------|---------|---------|\n",
    "| `pwd` | Prints current working directory | `pwd` |\n",
    "| `ls` | List contents | `ls Documents` |\n",
    "| `cd` | Change directory | `cd Desktop` |"
   ]
  },
  {
   "cell_type": "markdown",
   "metadata": {},
   "source": [
    "## Useful unix shell shortcuts and wildcards\n",
    "\n",
    "| Symbol | Definition |\n",
    "|--------|-------------|\n",
    "| `.` | Current working directory |\n",
    "| `..` | Parent directory |\n",
    "| `~` | HOME directory |\n",
    "| `*` | Wildcard, matches any character |"
   ]
  },
  {
   "cell_type": "markdown",
   "metadata": {},
   "source": [
    "### In class activities\n",
    "\n",
    "0. Discuss/brainstorm what are the 3 things you do/think about (as a human) when you navigate your computer's filesystem using Finder, Explorer, Nautilus, etc)\n",
    "1. Instructor - Demo using unix to navigate filesystem\n",
    "2. Students - use command line to:\n",
    "    a. figure out where you are when you open your command line\n",
    "    b. navigate to your Documents folder\n",
    "    c. navigate from your Documents folder to your Desktop"
   ]
  },
  {
   "cell_type": "markdown",
   "metadata": {},
   "source": [
    "## Reading the Shell command docs\n",
    "\n",
    "- Depending on the program that runs your Shell, you can get documentation about a command and its optional flags/arguments via `man` or `--help`.\n",
    "- If you use the `man` option, type **`q`** to exit the help page."
   ]
  },
  {
   "cell_type": "markdown",
   "metadata": {},
   "source": [
    "For example, to learn about the `pwd` command, type:\n",
    "\n",
    "```\n",
    "man pwd\n",
    "\n",
    "```\n",
    "\n",
    "And you will see something like this printed to your shell/command line:\n",
    "\n",
    "```\n",
    "PWD(1)                    BSD General Commands Manual                   PWD(1)\n",
    "\n",
    "NAME\n",
    "     pwd -- return working directory name\n",
    "\n",
    "SYNOPSIS\n",
    "     pwd [-L | -P]\n",
    "\n",
    "DESCRIPTION\n",
    "     The pwd utility writes the absolute pathname of the current working\n",
    "     directory to the standard output.\n",
    "\n",
    "     Some shells may provide a builtin pwd command which is similar or identi-\n",
    "     cal to this utility.  Consult the builtin(1) manual page.\n",
    "\n",
    "     The options are as follows:\n",
    "\n",
    "     -L      Display the logical current working directory.\n",
    "\n",
    "     -P      Display the physical current working directory (all symbolic\n",
    "             links resolved).\n",
    "\n",
    "     If no options are specified, the -L option is assumed.\n",
    "\n",
    "ENVIRONMENT\n",
    "     Environment variables used by pwd:\n",
    "\n",
    "     PWD  Logical current working directory.\n",
    "\n",
    "EXIT STATUS\n",
    "     The pwd utility exits 0 on success, and >0 if an error occurs.\n",
    "\n",
    "SEE ALSO\n",
    "     builtin(1), cd(1), csh(1), sh(1), getcwd(3)\n",
    "\n",
    "STANDARDS\n",
    "     The pwd utility conforms to IEEE Std 1003.1-2001 (``POSIX.1'').\n",
    "\n",
    "BUGS\n",
    "     In csh(1) the command dirs is always faster because it is built into that\n",
    "     shell.  However, it can give a different answer in the rare case that the\n",
    "     current directory or a containing directory was moved after the shell\n",
    "     descended into it.\n",
    "\n",
    "     The -L option does not work unless the PWD environment variable is\n",
    "     exported by the shell.\n",
    "\n",
    "BSD                             April 12, 2003                             BSD\n",
    "```"
   ]
  },
  {
   "cell_type": "markdown",
   "metadata": {},
   "source": [
    "# 2. Relative vs absolute path\n",
    "\n",
    "You are here:\n",
    "\n",
    "```\n",
    "pwd\n",
    "```\n",
    "\n",
    "```\n",
    "/Users/timberst/Documents\n",
    "```\n",
    "\n",
    "These are the files in your current working directory:\n",
    "```\n",
    "ls\n",
    "```\n",
    "\n",
    "```\n",
    "DSCI-100  MDS-2018-19   textbooks   research\n",
    "```\n",
    "\n",
    "You can navigate to the research directory using one of two options, a relative path:\n",
    "\n",
    "```\n",
    "cd research\n",
    "```\n",
    "\n",
    "or, using an absolute path:\n",
    "```\n",
    "cd /Users/timberst/Documents/research\n",
    "```\n",
    "\n",
    "What is the difference? When you use a relative path with a command like `ls` or `cd`, it tries to find that location from where we are, rather than from the root of the file system. However, when you specify the absolute path to a directory by including its entire path from the root directory, which is indicated by a leading slash, The leading `/` tells the computer to follow the path from the root of the file system, so it always refers to exactly one directory, no matter where we are when we run the command.\n",
    "\n",
    "### Discussion question:\n",
    "\n",
    "When should I use a relative path versus an absolute path?"
   ]
  },
  {
   "cell_type": "markdown",
   "metadata": {},
   "source": [
    "# 3. Introduction to local and remote version control software\n",
    "\n",
    "## Why version control?\n",
    "\n",
    "![alt tag](phd101212s.png)\n",
    "\n",
    "*source: “Piled Higher and Deeper” by Jorge Cham, http://www.phdcomics.com*"
   ]
  },
  {
   "cell_type": "markdown",
   "metadata": {},
   "source": [
    "## Additional reasons to learn version control (especially using Git & Github)\n",
    "\n",
    "Beyond managing and keeping versions of documents (reports, code, etc) under control, there are other reasons for using the Git/Github version control system:\n",
    "\n",
    "- Github (website) can act as a back-up for files housed there\n",
    "- Github can be used to host websites/blogs\n",
    "- Github has a fantastic search functionality\n",
    "\n",
    "And Git is the language we have to speak to communicate with Github. Sometimes it is a quirky language..."
   ]
  },
  {
   "cell_type": "markdown",
   "metadata": {},
   "source": [
    "## Github as a means for submitting your homework/assignments and quizzes\n",
    "\n",
    "- We use Github as a mean to submit homework/assignments and quizzes\n",
    "- Today as we go through the lesson material we will refresh all the essentials you need to submit your homework assignment"
   ]
  },
  {
   "cell_type": "markdown",
   "metadata": {},
   "source": [
    "## Setting up Git\n",
    "\n",
    "Using the command line tell Git about yourself:\n",
    "\n",
    "```\n",
    "git config --global user.name 'Tiffany Timbers'\n",
    "git config --global user.email 'tiffany.timbers@stat.ubc.ca'\n",
    "git config --global --list\n",
    "```\n",
    "\n",
    "The top two `git config` commands return nothing. So we add the third line to check that Git understood what we typed.\n",
    "\n",
    "*note - if you have previously set up Git you can likely skip this step*\n"
   ]
  },
  {
   "cell_type": "markdown",
   "metadata": {},
   "source": [
    "## Cloning repositories from Github\n",
    "\n",
    "- If you want to be able to run the code on your own machine, and modify it there, we need to \"clone\" it. \n",
    "- To clone it:\n",
    "    1. go into the repository (your copy of it)\n",
    "    2. click on the green \"Clone or download\" button (make sure the pop-up says \"Clone with HTTPS\")\n",
    "        - note - we will learn to use SSH authentication later...\n",
    "    3. copy the URL to the clipboard\n",
    "    4. open a Unix Shell instance (e.g., terminal or Git for Windows) on your laptop\n",
    "    5. navigate to your `Documents` directory\n",
    "        ```\n",
    "        cd Documents\n",
    "        ```\n",
    "    6. type `git clone` and paste the URL\n",
    "        ```\n",
    "        git clone https://github.com/github_username/repository_name.git\n",
    "        ```\n",
    "    7. press enter to clone the repository to your local machine\n",
    "    \n",
    "For more details, see Github's docs on [cloning](https://help.github.com/articles/cloning-a-repository/)."
   ]
  },
  {
   "cell_type": "markdown",
   "metadata": {},
   "source": [
    "## Adding & commiting changes to version controlled files\n",
    "\n",
    "There are two ways to make changes to your files:\n",
    "\n",
    "1. Make changes on files you have cloned locally to your computer, and then \"push\" the changes back to Github.\n",
    "2. Edit files directly on Github."
   ]
  },
  {
   "cell_type": "markdown",
   "metadata": {},
   "source": [
    "## Making changes locally\n",
    "\n",
    "- Once you have made a change to a file in a Git repository that you have locally (*i.e.,* on your laptop), you need to commit the changes.\n",
    "\n",
    "- Committing the changes is essentially saving the differences between the new version of the document and the previous version of the document in the hidden `.git` directory in the Git repository.\n",
    "\n",
    "- This is a two stage process with Git:\n",
    "    1. Add changes to staging area\n",
    "        ```\n",
    "        git add file_name(s)\n",
    "        ```\n",
    "        \n",
    "    2. Commit changes to hidden `.git` directory\n",
    "        ```\n",
    "        git commit -m \"Some useful message about the changes you made\"\n",
    "        ```\n",
    "\n",
    "For more details, see Software Carpentry's lesson on [tracking local changes with Git](http://swcarpentry.github.io/git-novice/04-changes/)."
   ]
  },
  {
   "cell_type": "markdown",
   "metadata": {},
   "source": [
    "## What is the staging area, and why is it there?\n",
    "\n",
    "![alt tag](staging_area.png)"
   ]
  },
  {
   "cell_type": "markdown",
   "metadata": {},
   "source": [
    "### How do I know if I made changes?\n",
    "\n",
    "`git status` is a friendly command that lets you know if you have changes that you have yet to add or commit."
   ]
  },
  {
   "cell_type": "markdown",
   "metadata": {},
   "source": [
    "## Push local changes to Github\n",
    "\n",
    "Once you have made local changes, and added and committed them, you need to \"push\" the changes to Github:\n",
    "\n",
    "```\n",
    "git push\n",
    "```\n",
    "\n",
    "For more details, see Github's doc on [pushing changes to Github](https://help.github.com/articles/pushing-to-a-remote/).\n",
    "\n",
    "**ALWAYS VERIFY YOUR HOMEWORK GOT PUSHED!**"
   ]
  },
  {
   "cell_type": "markdown",
   "metadata": {},
   "source": [
    "# 4. Create, edit and run Jupyter notebooks (a type of reproducible literate code document)\n",
    "\n",
    "Start working on [lab 1](https://github.ubc.ca/MDS-2018-19/DSCI_521_platforms-dsci_students/blob/master/release/lab1/lab1.ipynb)!"
   ]
  },
  {
   "cell_type": "markdown",
   "metadata": {},
   "source": [
    "# Concept map wrap-up\n",
    "\n",
    "- Use the Unix command line to navigate their computer's filesystem.\n",
    "- Define and distinguish between absolute file paths and relative file paths.\n",
    "- Use local and remote version control software (e.g., Git and GitHub) to access, edit and submit MDS homework.\n",
    "- Create, edit and run Jupyter notebooks (a type of reproducible literate code document)."
   ]
  },
  {
   "cell_type": "markdown",
   "metadata": {},
   "source": [
    "## Attribution \n",
    "1. [Happy Git and GitHub for the useR by Jenny Bryan and the STAT 545 TAs](http://happygitwithr.com/)\n",
    "2. [Software Carpentry](https://software-carpentry.org/), specifically the Unix Shell and Git lessons"
   ]
  }
 ],
 "metadata": {
  "anaconda-cloud": {},
  "kernelspec": {
   "display_name": "Python 3",
   "language": "python",
   "name": "python3"
  },
  "language_info": {
   "codemirror_mode": {
    "name": "ipython",
    "version": 3
   },
   "file_extension": ".py",
   "mimetype": "text/x-python",
   "name": "python",
   "nbconvert_exporter": "python",
   "pygments_lexer": "ipython3",
   "version": "3.6.5"
  }
 },
 "nbformat": 4,
 "nbformat_minor": 1
}
