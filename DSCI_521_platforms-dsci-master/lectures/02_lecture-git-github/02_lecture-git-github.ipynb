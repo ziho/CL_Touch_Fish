{
 "cells": [
  {
   "cell_type": "markdown",
   "metadata": {
    "slideshow": {
     "slide_type": "slide"
    }
   },
   "source": [
    "# DSCI 521 - Computing Platforms for Data Science\n",
    "\n",
    "\n",
    "## Lecture 2 - Getting groovy with Git and GitHub\n",
    "\n",
    "\n",
    "### 2018-09-09"
   ]
  },
  {
   "cell_type": "markdown",
   "metadata": {
    "slideshow": {
     "slide_type": "slide"
    }
   },
   "source": [
    "# Lecture learning goals"
   ]
  },
  {
   "cell_type": "markdown",
   "metadata": {
    "slideshow": {
     "slide_type": "fragment"
    }
   },
   "source": [
    "## By the end of the lecture, students should be able to:\n",
    "\n",
    "\n",
    "1. Create a new repository on GitHub\n",
    "2. Viewing your Git history and checking out an older version of the file\n",
    "5. Deal with merge conflicts at the command line \n",
    "6. Use `nbdime` to deal with merge conflicts involving Jupyter notebooks"
   ]
  },
  {
   "cell_type": "markdown",
   "metadata": {
    "slideshow": {
     "slide_type": "slide"
    }
   },
   "source": [
    "# 1 Creating a Repository\n",
    "\n",
    "We can create a repository one of two ways:\n",
    "\n",
    "1. Start on GitHub and **then** clone the repository to your local computer using Git.\n",
    "2. Start in a folder on your local computer, use Git to initialize it as a Git repository (by typing `git init` inside the directory). **Then** create a new repository on GitHub without adding any files. **Then** use Git to tell your local computer where the remote is (i.e., the location of the empty GitHub repository on GitHub).\n",
    "\n",
    "You can see the second method requires more work. So I usually do it using the first method."
   ]
  },
  {
   "cell_type": "markdown",
   "metadata": {
    "slideshow": {
     "slide_type": "slide"
    }
   },
   "source": [
    "## Creating a repository from GitHub (method 1 above)\n",
    "\n",
    "- Let's work through a demo together where we create and edit a repository for a fictionary Data Science project we are going to create. \n",
    "\n",
    "- Pair up in partners (to help each other out and for the collaboration exercise coming later in the lecture...).\n"
   ]
  },
  {
   "cell_type": "markdown",
   "metadata": {
    "slideshow": {
     "slide_type": "fragment"
    }
   },
   "source": [
    "### Steps to follow:\n",
    "\n",
    "1. Go to https://github.ubc.ca and make sure you are logged in.\n",
    "\n",
    "2. Click green “New repository” button. Or, if you are on your own profile page, click on “Repositories”, then click the green “New” button.\n",
    "\n",
    "3. Choose/set:\n",
    "- Repository name: exampleDataProject (or whatever you wish)\n",
    "- Public\n",
    "- YES Initialize this repository with a README\n",
    "\n",
    "4. Click big green button “Create repository.”\n",
    "\n",
    "5. That's it! You now have a new repository on GitHub!"
   ]
  },
  {
   "cell_type": "markdown",
   "metadata": {
    "slideshow": {
     "slide_type": "slide"
    }
   },
   "source": [
    "## Adding & commiting changes to version controlled files\n",
    "\n",
    "There are two ways to make changes to your files:\n",
    "\n",
    "1. Edit files directly on Github.\n",
    "2. Make changes on files you have cloned locally to your computer, and then \"push\" the changes back to Github.\n",
    " \n",
    "We have had some practice with method 2, so we will try out method 1 now."
   ]
  },
  {
   "cell_type": "markdown",
   "metadata": {
    "slideshow": {
     "slide_type": "slide"
    }
   },
   "source": [
    "Let's create a file called `README.md` that contains some information about a fictionary Data Science project we are going to create.\n",
    "\n",
    "### Steps to follow: \n",
    "\n",
    "1. Click on the `README.md` file link\n",
    "\n",
    "2. Click on the pen tool (right-hand side of document)\n",
    "\n",
    "3. Add your name as the author to the document (e.g., \"author: Tiffany Timbers\")\n",
    "\n",
    "4. Click on the big green button \"Commit changes\" to save your work (this is essentially `git add` + `git commit`\n",
    "\n",
    "5. Get this repo on your local computer by cloning it (`git clone` + remote URL)"
   ]
  },
  {
   "cell_type": "markdown",
   "metadata": {
    "slideshow": {
     "slide_type": "slide"
    }
   },
   "source": [
    "### Class discussion point:\n",
    "\n",
    "Why and when would you use the two different ways of adding & commiting changes to version controlled files?"
   ]
  },
  {
   "cell_type": "markdown",
   "metadata": {
    "slideshow": {
     "slide_type": "slide"
    }
   },
   "source": [
    "# 2. Viewing your Git history and checking out an older version of the file\n",
    "\n",
    "Now we have a project, but only 2 commits (the initial creation and adding us as the author). Let's now add a couple more commits to generate a history that we can view and experiment with."
   ]
  },
  {
   "cell_type": "markdown",
   "metadata": {
    "slideshow": {
     "slide_type": "slide"
    }
   },
   "source": [
    "Let's edit our `README.md` over several different commits (to generate a history that we can view and experiment with).\n",
    "\n",
    "### Steps to follow:\n",
    "\n",
    "1. Use the pen tool to change the README header from the default (repo name) to a more proper english title for the project. Click on the big green button \"Commit changes\" to save your work.\n",
    "\n",
    "2. Use the pen tool to change the README header from the default (repo name) to add today's date as the project start date to the README. Click on the big green button \"Commit changes\" to save your work.\n",
    "\n",
    "3. Use the pen tool to change the README header from the default (repo name) to add a list of dependencies (Software that will be required to run it, e.g., Python) to the README. Click on the big green button \"Commit changes\" to save your work.\n",
    "\n",
    "4. \"Accidentally\" delete the list of dependencies you just created. Click on the big green button \"Commit changes\" to save your work.\n",
    "\n",
    "4. Bring all these changes down to your local computer by typing `git pull` from inside the cloned repo on your laptop using Git Bash/terminal (hint - open the file locally to see that it looks as expected to ensure you did things correctly)."
   ]
  },
  {
   "cell_type": "markdown",
   "metadata": {
    "slideshow": {
     "slide_type": "slide"
    }
   },
   "source": [
    "## Viewing the history of a project\n",
    "\n",
    "There are two ways you can view the Git history of a project:\n",
    "\n",
    "1. On GitHub through the repo's code commit view\n",
    "2. On your local machine using `git log`\n",
    "\n",
    "Arguably, the best and easiest place to view the Git history of a project is on GitHub. So let's start there. But we'll explore both as sometimes the history on your local machine might differ from that on GitHub and that is when you might need to look at both."
   ]
  },
  {
   "cell_type": "markdown",
   "metadata": {
    "slideshow": {
     "slide_type": "slide"
    }
   },
   "source": [
    "Let's viewing the git history of our project on GitHub and locally.\n",
    "\n",
    "### Steps to follow: \n",
    "\n",
    "1. On GitHub, on the repo's landing page click \"$N$ commit\" link (where $N$ is the number of commits made on the repo, yours should be around 6). \n",
    "2. On your laptop, from inside your Git repository type `git log` at the command line"
   ]
  },
  {
   "cell_type": "markdown",
   "metadata": {
    "slideshow": {
     "slide_type": "slide"
    }
   },
   "source": [
    "### Class discussion point:\n",
    "How similar are these two views? Do you get the same information from both? Which seems easier to read/naviagte?"
   ]
  },
  {
   "cell_type": "markdown",
   "metadata": {
    "slideshow": {
     "slide_type": "slide"
    }
   },
   "source": [
    "## Comparing files from different commits\n",
    "\n",
    "In my humble opinion (IMHO) [GithHub's Compare view](https://help.github.com/articles/comparing-commits-across-time/) is the best and easiest way to compare files from different commits. \n",
    "\n",
    "To use it, you need to:\n",
    "\n",
    "1. Get the [Short SHA-1](https://git-scm.com/book/en/v2/Git-Tools-Revision-Selection) of the commits you want to compare (from either method of viewing the history).\n",
    "\n",
    "2. Go to https://github.ubc.ca/YOUR_USERNAME/YOUR_REPO_NAME/compare and enter the Short SHA-1's in the base and compare drop down menus."
   ]
  },
  {
   "cell_type": "markdown",
   "metadata": {
    "slideshow": {
     "slide_type": "-"
    }
   },
   "source": [
    "note - another way to do this is using `git diff`, which you can learn about [here](https://www.atlassian.com/git/tutorials/saving-changes/git-diff)."
   ]
  },
  {
   "cell_type": "markdown",
   "metadata": {
    "slideshow": {
     "slide_type": "slide"
    }
   },
   "source": [
    "## Checking out an older version of the file\n",
    "\n",
    "Oh no! We realize by viewing the history that we made a mistake! We didn't mean to delete our list of dependencies. Worry not! We can now take advantage that we have been tracking this file under version control by using `git checkout` to retrieve an older version of the file to replace the broken version we now have."
   ]
  },
  {
   "cell_type": "markdown",
   "metadata": {
    "slideshow": {
     "slide_type": "slide"
    }
   },
   "source": [
    "Let's checkout the version of the file BEFORE we deleted the software dependency list.\n",
    "\n",
    "### Steps to follow: \n",
    "\n",
    "1. Look at the history to see which version of the file we want to go back to and get its Short SHA-1 (we'll need this to retrieve the file).\n",
    "\n",
    "2. Then we use `git checkout` in the command line to grab it: `git checkout SHORT_SHA-1 FILENAME`\n",
    "\n",
    "3. After recovering the file, check `git status` and you will see you need to `git add` and `git commit` to log this file reversion.\n",
    "\n",
    "4. Don't forget `git push` to get the file backed up on GitHub!"
   ]
  },
  {
   "cell_type": "markdown",
   "metadata": {
    "slideshow": {
     "slide_type": "slide"
    }
   },
   "source": [
    "# 3. Deal with merge conflicts at the command line\n",
    "\n",
    "When working with version control, usually changes are happening in more than one place (e.g., your laptop and on GitHub). So changes of the same document in different places will have to happen. There are two types of changes you need to know about (and how Git deals with them):\n",
    "\n",
    "1. Changes to a document where different lines are modified (Git can automatically merge these).\n",
    "\n",
    "2. Changes to a document where the same line(s) are modified (Git CANNOT automatically merge these).\n",
    "\n",
    "\n",
    "I case \\#2 you (or some other human) has to deal with the conflict. Git kindly points you to where the problem is, and then will do no further work for you until you deal with the conflict.\n",
    "\n"
   ]
  },
  {
   "cell_type": "markdown",
   "metadata": {
    "slideshow": {
     "slide_type": "slide"
    }
   },
   "source": [
    "## How do you know you have a merge conflict?\n",
    "\n",
    "If you do `git push` and you see something like:\n",
    "\n",
    "```\n",
    "To https://github.com/vlad/planets.git\n",
    " ! [rejected]        master -> master (non-fast-forward)\n",
    "error: failed to push some refs to 'https://github.com/vlad/planets.git'\n",
    "hint: Updates were rejected because the tip of your current branch is behind\n",
    "hint: its remote counterpart. Merge the remote changes (e.g. 'git pull')\n",
    "hint: before pushing again.\n",
    "hint: See the 'Note about fast-forwards' in 'git push --help' for details.\n",
    "```\n",
    "**and** then you do a `git pull` and see something like this:\n",
    "\n",
    "```\n",
    "remote: Counting objects: 5, done.\n",
    "remote: Compressing objects: 100% (2/2), done.\n",
    "remote: Total 3 (delta 1), reused 3 (delta 1)\n",
    "Unpacking objects: 100% (3/3), done.\n",
    "From https://github.com/vlad/planets\n",
    " * branch            master     -> FETCH_HEAD\n",
    "Auto-merging mars.txt\n",
    "CONFLICT (content): Merge conflict in mars.txt\n",
    "Automatic merge failed; fix conflicts and then commit the result.\n",
    "\n",
    "```\n",
    "\n",
    "You have a merge conflict.\n"
   ]
  },
  {
   "cell_type": "markdown",
   "metadata": {
    "slideshow": {
     "slide_type": "slide"
    }
   },
   "source": [
    "## What do you do to fix a merge conflict?\n",
    "\n",
    "1. Pull the changes from Github\n",
    "1. Open the file that has a conflict (the output of `git pull` will tell you which files) in a plain text editor (e.g., Atom)\n",
    "2. Look for the conflict (hint - search for `<<<<<<< HEAD`)\n",
    "3. Fix the conflict and save the file\n",
    "4. `git add` and `git commit` your changes, and then `git push` them up to GitHub"
   ]
  },
  {
   "cell_type": "markdown",
   "metadata": {},
   "source": [
    "## How do you find the conflicts in a file\n",
    "\n",
    "Here's an example of a text file with a conflict:\n",
    "\n",
    "```\n",
    "Cold and dry, but everything is my favorite color\n",
    "The two moons may be a problem for Wolfman\n",
    "But the Mummy will appreciate the lack of humidity\n",
    "<<<<<<< HEAD\n",
    "We added a this line in our last commit\n",
    "=======\n",
    "This line was added somewhere else\n",
    ">>>>>>> dabb4c8c450e8475aee9b14b4383acc99f42af1d\n",
    "```\n",
    "\n",
    "- `<<<<<<< HEAD` precedes the change you made (that you couldn't push)\n",
    "- `=======` is a separator between the conflicting changes \n",
    "- `>>>>>>> dabb4c8c450e8475aee9b14b4383acc99f42af1d` flags the end of the conflicting change you pulled from GitHub"
   ]
  },
  {
   "cell_type": "markdown",
   "metadata": {
    "slideshow": {
     "slide_type": "slide"
    }
   },
   "source": [
    "## How do you fix the conflicts in a file?\n",
    "\n",
    "- edit this file to remove these markers and reconcile the changes\n",
    "- We can do anything we want: \n",
    "    - keep the change made in the local repository, \n",
    "    - keep the change made in the remote repository, \n",
    "    - write something new to replace both, \n",
    "    - or get rid of the change entirely. \n",
    "    \n"
   ]
  },
  {
   "cell_type": "markdown",
   "metadata": {
    "slideshow": {
     "slide_type": "slide"
    }
   },
   "source": [
    "If we chose to write something new to replace both, it would look like this:\n",
    "\n",
    "```\n",
    "Cold and dry, but everything is my favorite color\n",
    "The two moons may be a problem for Wolfman\n",
    "But the Mummy will appreciate the lack of humidity\n",
    "We removed the conflict on this line\n",
    "```\n",
    "\n",
    "You then need to save, `git add`, `git commit` and `git push` the file to have these changes reflected on GitHub."
   ]
  },
  {
   "cell_type": "markdown",
   "metadata": {
    "slideshow": {
     "slide_type": "slide"
    }
   },
   "source": [
    "## What about merge conflicts Jupyter notebooks???"
   ]
  },
  {
   "cell_type": "markdown",
   "metadata": {
    "slideshow": {
     "slide_type": "slide"
    }
   },
   "source": [
    "## First - a bit about what a Jupyter notebook is made up of\n",
    "\n",
    "- `.ipynb` files are \"plain\" text files, and we can view them in a plain text editor and make some sense of them\n",
    "- The contents of the notebook are encoded in JSON\n",
    "- When we run the notebook via `Jupyter notebook` the kernel is the part the can interpret and run the code\n",
    "\n",
    "\n",
    "For example, this notebook of 2 cells:\n",
    "\n",
    "![alt tag](imgs/sample_notebook.png)\n",
    "\n",
    "is encoded by the following JSON:\n",
    "```\n",
    "{\n",
    " \"cells\": [\n",
    "  {\n",
    "   \"cell_type\": \"markdown\",\n",
    "   \"metadata\": {},\n",
    "   \"source\": [\n",
    "    \"# A Markdown header cell\\n\",\n",
    "    \"\\n\",\n",
    "    \"Below is a simple example of some code in Python:\"\n",
    "   ]\n",
    "  },\n",
    "  {\n",
    "   \"cell_type\": \"code\",\n",
    "   \"execution_count\": 1,\n",
    "   \"metadata\": {\n",
    "    \"collapsed\": false\n",
    "   },\n",
    "   \"outputs\": [\n",
    "    {\n",
    "     \"name\": \"stdout\",\n",
    "     \"output_type\": \"stream\",\n",
    "     \"text\": [\n",
    "      \"15\\n\"\n",
    "     ]\n",
    "    }\n",
    "   ],\n",
    "   \"source\": [\n",
    "    \"x = 5\\n\",\n",
    "    \"y = 10\\n\",\n",
    "    \"\\n\",\n",
    "    \"print(x + y)\"\n",
    "   ]\n",
    "  }\n",
    " ],\n",
    " \"metadata\": {\n",
    "  \"anaconda-cloud\": {},\n",
    "  \"kernelspec\": {\n",
    "   \"display_name\": \"Python [Root]\",\n",
    "   \"language\": \"python\",\n",
    "   \"name\": \"Python [Root]\"\n",
    "  },\n",
    "  \"language_info\": {\n",
    "   \"codemirror_mode\": {\n",
    "    \"name\": \"ipython\",\n",
    "    \"version\": 3\n",
    "   },\n",
    "   \"file_extension\": \".py\",\n",
    "   \"mimetype\": \"text/x-python\",\n",
    "   \"name\": \"python\",\n",
    "   \"nbconvert_exporter\": \"python\",\n",
    "   \"pygments_lexer\": \"ipython3\",\n",
    "   \"version\": \"3.5.1\"\n",
    "  }\n",
    " },\n",
    " \"nbformat\": 4,\n",
    " \"nbformat_minor\": 0\n",
    "}\n",
    "```"
   ]
  },
  {
   "cell_type": "markdown",
   "metadata": {
    "slideshow": {
     "slide_type": "slide"
    }
   },
   "source": [
    "## Back to version control and Jupyter notebook\n",
    "\n",
    "Because the notebooks are stored as plain text, we can use them for version control, but this is not without issues, which include:\n",
    "    - `git diff` looks horrendous because of the JSON\n",
    "    - manually fixing conflicts is arduous because of the JSON\n",
    "    \n",
    "Strategies to help you not end up in conflict hell with Jupyter:\n",
    "\n",
    "1. Always `git pull` before you start doing ANY work!\n",
    "2. Clear output of your notebooks before you `git push` (although we need your output for MDS homework... so it depends here).\n",
    "\n",
    "But there is hope things are better (or will get better)! [`nbdime`](https://nbdime.readthedocs.io/en/stable/) is a project that helps solve these problems... You can try to test drive it, I have yet to have success with it yet however."
   ]
  },
  {
   "cell_type": "markdown",
   "metadata": {
    "slideshow": {
     "slide_type": "slide"
    }
   },
   "source": [
    "## Practicing conflict solution in pairs:\n",
    "\n",
    "Designate one partner as the Data Science repository \"Owner\" and one partner as the repository \"Collaborator\". The repository \"Owner\" needs to grant the Collaborator access.\n",
    "\n",
    "##### Owner: \n",
    "* On GitHub, click the settings button on the right. \n",
    "* Select Collaborators (top left), and enter your Collaborator's username.\n",
    "\n",
    "##### Collaborator: \n",
    "* Go to your email to retrieve the `URL` to connect to the Owner's repository.\n",
    "* Clone your partners repo:\n",
    "\n",
    "~~~ \n",
    "$ git clone URL_from_Collaborator\n",
    "~~~\n",
    "\n",
    "`git clone` creates a fresh local copy of a remote repository.\n",
    "\n",
    "### Stage a conflict:\n",
    "\n",
    "Both partners modify the same line of the same file. And try to send the changes to GitHub. One of you should get a conflict. Work together to follow what was learned in lecture to resolve it."
   ]
  },
  {
   "cell_type": "markdown",
   "metadata": {
    "slideshow": {
     "slide_type": "slide"
    }
   },
   "source": [
    "## Attribution \n",
    "1. [Happy Git and GitHub for the useR by Jenny Bryan and the STAT 545 TAs](http://happygitwithr.com/)\n",
    "2. [Software Carpentry](https://software-carpentry.org/), specifically the Git lessons"
   ]
  }
 ],
 "metadata": {
  "anaconda-cloud": {},
  "celltoolbar": "Slideshow",
  "kernelspec": {
   "display_name": "Python 3",
   "language": "python",
   "name": "python3"
  },
  "language_info": {
   "codemirror_mode": {
    "name": "ipython",
    "version": 3
   },
   "file_extension": ".py",
   "mimetype": "text/x-python",
   "name": "python",
   "nbconvert_exporter": "python",
   "pygments_lexer": "ipython3",
   "version": "3.6.5"
  }
 },
 "nbformat": 4,
 "nbformat_minor": 1
}
