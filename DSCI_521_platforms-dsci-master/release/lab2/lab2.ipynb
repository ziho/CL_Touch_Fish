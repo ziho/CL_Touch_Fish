{
 "cells": [
  {
   "cell_type": "markdown",
   "metadata": {},
   "source": [
    "# Lab 2: Creating webpages/blogs with Git and GitHub"
   ]
  },
  {
   "cell_type": "markdown",
   "metadata": {},
   "source": [
    "In Lab 2, you will practice writing and editing markup languages such as Markdown, HTML and LaTeX. These languages will be used extensively in MDS as you will create MANY literate code documents (e.g., Jupyter notebooks and RMarkdown documents). \n",
    "\n",
    "In this assignment you will also create your own blog using GitHub Pages. The motivation behind this is two-fold. First, creating and editing a markdown-based blog hosted on GitHub pages is a great way to practice your markdown and version control skills (skills that are essential to Data Science). Second, getting together a professional Data Science blog is an important piece of your Data Science portfolio that will help you build your reputation and display your work (These two things will help you get a job).\n",
    "\n",
    "You should follow the instructions in the notebook to complete the assignment.\n",
    "\n",
    "### Submission Instructions\n",
    "rubric={mechanics:2}\n",
    "\n",
    "- [Follow the general lab instructions](https://ubc-mds.github.io/resources_pages/general_lab_instructions/)"
   ]
  },
  {
   "cell_type": "markdown",
   "metadata": {},
   "source": [
    "## 0. Editing and writing Markdown\n",
    "\n",
    "Feel free to use [this cheat sheet](https://github.com/adam-p/markdown-here/wiki/Markdown-Cheatsheet) to help you with the questions below.\n",
    "\n",
    "\n",
    "\n",
    "#### Question 0.0.0.\n",
    "rubric={correctness:1}\n",
    "\n",
    "Most of the the larger, bold font formatted text in this document (and other Markdown documents) is accomplished using headers. The formatting to create headers is the `#` symbol, then a space, and then the text you would like to format as the header. A first level header uses one (`# Header text`), and second level uses two (`## Header text`), a third level uses three (`### Header text`) and so on. \n",
    "\n",
    "\n",
    "Copy and edit the text for the three lines below (the Markdown formatting makes it appear as only one line until you look at the raw text...), so that the first line is a first level level header, the second line is a fourth level header and the third line is a third level header.\n",
    "\n",
    "Moby Dick\n",
    "by Herman Melville\n",
    "alternate title:  The Whale"
   ]
  },
  {
   "cell_type": "markdown",
   "metadata": {
    "deletable": false,
    "nbgrader": {
     "cell_type": "markdown",
     "checksum": "5ff2a9b87ebc095fdb5735902c777fb0",
     "grade": true,
     "grade_id": "cell-e9a8283854cc6294",
     "locked": false,
     "points": 0,
     "schema_version": 2,
     "solution": true
    }
   },
   "source": [
    "YOUR ANSWER HERE"
   ]
  },
  {
   "cell_type": "markdown",
   "metadata": {},
   "source": [
    "### Question 0.0.1.\n",
    "rubric={correctness:1}\n",
    "\n",
    "Copy and edit the text in the paragraph below so that entire quote (text in quotation marks on first line that follows) is in italics, not just the word Love.\n",
    "\n",
    "\"Dear past-Hadley: **PLEASE COMMENT YOUR CODE BETTER**. *Love* present-Hadley\"\n",
    "\n",
    "— [@hadleywickham](https://twitter.com/hadleywickham) [tweet](https://twitter.com/hadleywickham/status/718203628528349184)"
   ]
  },
  {
   "cell_type": "markdown",
   "metadata": {
    "deletable": false,
    "nbgrader": {
     "cell_type": "markdown",
     "checksum": "b6ac2b6612f1fe46fd332bba64fb2052",
     "grade": true,
     "grade_id": "cell-6c10182a47c0fae7",
     "locked": false,
     "points": 0,
     "schema_version": 2,
     "solution": true
    }
   },
   "source": [
    "YOUR ANSWER HERE"
   ]
  },
  {
   "cell_type": "markdown",
   "metadata": {},
   "source": [
    "### Question 0.0.2.\n",
    "rubric={correctness:1}\n",
    "\n",
    "Copy and edit the table below to add your name and fill in you favourite flavour(s) of ice cream. Also add another column called \"Prefers cone\" and find out (hint - use Slack) and fill in the values for everyone.\n",
    "\n",
    "| Name     | Preferred ice cream flavours            |\n",
    "|----------|-----------------------------------------|\n",
    "| Tiffany  | Salted caramel, Mint Chocolate Chip     |\n",
    "| Mike     | Green tea, Coconut, Mint Chocolate Chip |\n",
    "| Vincenzo | Strawberry, Salted Caramel, Lemon       |"
   ]
  },
  {
   "cell_type": "markdown",
   "metadata": {
    "deletable": false,
    "nbgrader": {
     "cell_type": "markdown",
     "checksum": "a088cb75c2c25cd8d3fc8cf467b24925",
     "grade": true,
     "grade_id": "cell-1ab30c3a47a524d1",
     "locked": false,
     "points": 0,
     "schema_version": 2,
     "solution": true
    }
   },
   "source": [
    "YOUR ANSWER HERE"
   ]
  },
  {
   "cell_type": "markdown",
   "metadata": {},
   "source": [
    "### Question 0.0.3.\n",
    "rubric={correctness:1}\n",
    "\n",
    "Edit the text on the lines below so that that code is formatted in a code chunk using Markdown syntax. Currently because the code is not in a code chunk, the 3 lines of code get rendered into one unreadable line. Use Markdown code chunk syntax to fix that. Your answer should include the text \"This is an example of Python code:\" and that text should be formatted as text (i.e., not included in the code chunk).\n",
    "\n",
    "This is an example of Python code:\n",
    "\n",
    "x = 5\n",
    "x += 1\n",
    "print(x)\n"
   ]
  },
  {
   "cell_type": "markdown",
   "metadata": {
    "deletable": false,
    "nbgrader": {
     "cell_type": "markdown",
     "checksum": "38d36d764f4bf495b5c918c2faae02fd",
     "grade": true,
     "grade_id": "cell-a6a2b534222d5f1f",
     "locked": false,
     "points": 0,
     "schema_version": 2,
     "solution": true
    }
   },
   "source": [
    "YOUR ANSWER HERE"
   ]
  },
  {
   "cell_type": "markdown",
   "metadata": {},
   "source": [
    "\n",
    "\n",
    "### Question 0.0.4.\n",
    "rubric={reasoning:2}\n",
    "\n",
    "Recreate the text in the image below using Markdown, so that is has the same formatting. *hint - the highest level header should use a single `#`.*\n",
    "\n",
    "<table><tr><td>\n",
    "    <img src=\"imgs/markdown.png\" width=\"900\"/>\n",
    "</td></tr></table>"
   ]
  },
  {
   "cell_type": "markdown",
   "metadata": {
    "deletable": false,
    "nbgrader": {
     "cell_type": "markdown",
     "checksum": "ddc439b8fd6f1e6abb041be8ed56775e",
     "grade": true,
     "grade_id": "cell-5e449bf3924ce227",
     "locked": false,
     "points": 0,
     "schema_version": 2,
     "solution": true
    }
   },
   "source": [
    "YOUR ANSWER HERE"
   ]
  },
  {
   "cell_type": "markdown",
   "metadata": {},
   "source": [
    "### Question 0.0.5.\n",
    "rubric={correctness:1}\n",
    "\n",
    "Find an image from the web and embed it in the notebook using markdown. Use Markdown to make a link to the source (URL the image came from) that is labelled with the text \"source\". "
   ]
  },
  {
   "cell_type": "markdown",
   "metadata": {
    "deletable": false,
    "nbgrader": {
     "cell_type": "markdown",
     "checksum": "5b0ee4011645e38389e0b4d4737d1442",
     "grade": true,
     "grade_id": "cell-f8007a522fad2042",
     "locked": false,
     "points": 0,
     "schema_version": 2,
     "solution": true
    }
   },
   "source": [
    "YOUR ANSWER HERE"
   ]
  },
  {
   "cell_type": "markdown",
   "metadata": {},
   "source": [
    "### Question 0.0.6.\n",
    "rubric={correctness:1}\n",
    "\n",
    "Sometimes you want to use special characters that are part of Markdown syntax for your writing. For example, if I wanted to add a asterisk so a sentence like this one\\* and then have another one later on in the same chunk of text\\*. To do this I can put `\\` in front of the special character that I want a plain text version of. \n",
    "\n",
    "Knowing that, fix the text below so that greater than (`>`) symbol is no longer used inappropiately to make a block quote, but instead is used to represent \"greater than\".\n",
    "\n",
    "> 4 days of ice cream in a row is too much for me."
   ]
  },
  {
   "cell_type": "markdown",
   "metadata": {
    "deletable": false,
    "nbgrader": {
     "cell_type": "markdown",
     "checksum": "ba4e8fc5bc92862dd40b4e7c8e4e1c1e",
     "grade": true,
     "grade_id": "cell-4390c9d6ac8de087",
     "locked": false,
     "points": 0,
     "schema_version": 2,
     "solution": true
    }
   },
   "source": [
    "YOUR ANSWER HERE"
   ]
  },
  {
   "cell_type": "markdown",
   "metadata": {},
   "source": [
    "## 1. Editing and writing HTML\n",
    "\n",
    "Feel free to use this [website](https://www.w3schools.com/html/default.asp) to help you with the questions below.\n",
    "\n",
    "Markdown is great but like everything, it has its limitations. Sometimes you need to use HTML tags to get your Markdown to be formatted how you want it to be formatted. For example, colours! \n",
    "\n",
    "<span style=\"color:blue\"> This text is blue </span>\n",
    "\n",
    "<span style=\"color:red\"> This text is red </span>\n",
    "\n",
    "<span style=\"color:green\"> This text is green </span>\n",
    "\n",
    "### Question 1.0.1.\n",
    "rubric={correctness:1}\n",
    "\n",
    "Choose another colour and copy and edit one of the pieces of text above to make it show up that colour:"
   ]
  },
  {
   "cell_type": "markdown",
   "metadata": {
    "deletable": false,
    "nbgrader": {
     "cell_type": "markdown",
     "checksum": "11851d664e0edec826bd75733a117238",
     "grade": true,
     "grade_id": "cell-8a2f904b0d384bd5",
     "locked": false,
     "points": 0,
     "schema_version": 2,
     "solution": true
    }
   },
   "source": [
    "YOUR ANSWER HERE"
   ]
  },
  {
   "cell_type": "markdown",
   "metadata": {},
   "source": [
    "### Question 1.0.2.\n",
    "rubric={correctness:1}\n",
    "\n",
    "Another thing that is challenging/impossible to do with basic Markdown alone is to change the size of images. To easily do this, HTML tags are helpful. To insert an image into Markdown using HTML you use the following HTML tag:\n",
    "\n",
    "```\n",
    "<img src=\"PATH/LINK_TO_IMAGE\" width=\"DESIRED_IMAGE_WIDTH\"/>\n",
    "```\n",
    "\n",
    "Use the `img` HTML tag with the `width` argument to insert the image at the link below and make the width 250 pixels.\n",
    "\n",
    "image link: https://media1.tenor.com/images/7ea952528fa112fe5dbced119d216c13/tenor.gif?itemid=8500133"
   ]
  },
  {
   "cell_type": "markdown",
   "metadata": {
    "deletable": false,
    "nbgrader": {
     "cell_type": "markdown",
     "checksum": "8c85375f270d8d9440fa76270d65bfad",
     "grade": true,
     "grade_id": "cell-df75c38527edc387",
     "locked": false,
     "points": 0,
     "schema_version": 2,
     "solution": true
    }
   },
   "source": [
    "YOUR ANSWER HERE"
   ]
  },
  {
   "cell_type": "markdown",
   "metadata": {},
   "source": [
    "### Question 1.0.3.\n",
    "rubric={correctness:1}\n",
    "\n",
    "Choose some other type for formatting and use the web to look up how to do it using HTML tags. Demonstrate its use in the cell below.  Some useful things you might want to do include:\n",
    "\n",
    "- font size (inline changes as opposed to headers)\n",
    "- underline text (hint/note - the obvious underline HTML tag does not work outside of Jupyter, look into the insert HTML tag instead...)"
   ]
  },
  {
   "cell_type": "markdown",
   "metadata": {
    "deletable": false,
    "nbgrader": {
     "cell_type": "markdown",
     "checksum": "ce77454ef21939731fb6d9c4898818c4",
     "grade": true,
     "grade_id": "cell-d302d28f21a7b17a",
     "locked": false,
     "points": 0,
     "schema_version": 2,
     "solution": true
    }
   },
   "source": [
    "YOUR ANSWER HERE"
   ]
  },
  {
   "cell_type": "markdown",
   "metadata": {},
   "source": [
    "## 2. Editing and writing LaTeX\n",
    "\n",
    "Feel free to use [this LaTeX cheat sheet](http://users.dickinson.edu/~richesod/latex/latexcheatsheet.pdf) to help you answer the questions below.\n",
    "\n",
    "In many of your MDS courses you will also need to write some equations. To do this efficiently and effectively we will use inline LaTeX. Inline LaTeX can be used (and rendered) inside Jupyter notebooks and RStudio RMarkdown and RNotebooks. Here we will practice editing and writing equations.\n",
    "\n",
    "\n",
    "### Question 2.0.1.\n",
    "rubric={correctness:1}\n",
    "\n",
    "In the equation below, change the $t$ subscript to a superscript/exponent:\n",
    "\n",
    "$y = x_{t}$"
   ]
  },
  {
   "cell_type": "markdown",
   "metadata": {
    "deletable": false,
    "nbgrader": {
     "cell_type": "markdown",
     "checksum": "651282fb83a449183da0b2743a333c0e",
     "grade": true,
     "grade_id": "cell-eed66aa990c877de",
     "locked": false,
     "points": 0,
     "schema_version": 2,
     "solution": true
    }
   },
   "source": [
    "YOUR ANSWER HERE"
   ]
  },
  {
   "cell_type": "markdown",
   "metadata": {},
   "source": [
    "### Question 2.0.2.\n",
    "rubric={correctness:1}\n",
    "\n",
    "In the equation below, change words omega and alpha to their respective greek symbols:\n",
    "\n",
    "$omega = omega_{0} + alpha \\cdot t$"
   ]
  },
  {
   "cell_type": "markdown",
   "metadata": {
    "deletable": false,
    "nbgrader": {
     "cell_type": "markdown",
     "checksum": "187ebd8a2dfc4f903bdf65ee2a344c13",
     "grade": true,
     "grade_id": "cell-50b6e233d0d59be0",
     "locked": false,
     "points": 0,
     "schema_version": 2,
     "solution": true
    }
   },
   "source": [
    "YOUR ANSWER HERE"
   ]
  },
  {
   "cell_type": "markdown",
   "metadata": {},
   "source": [
    "### Question 2.0.3.\n",
    "rubric={correctness:1}\n",
    "\n",
    "On the right-hand side of the equation below, remove the words \"divided by\" and instead make it appear as a fraction (hint use the `\\frac` syntax).\n",
    "\n",
    "$a = \\Delta v \"divided\\ by\" \\Delta t$"
   ]
  },
  {
   "cell_type": "markdown",
   "metadata": {
    "deletable": false,
    "nbgrader": {
     "cell_type": "markdown",
     "checksum": "406fcfba2bd35b2a7daaa0263c09eb75",
     "grade": true,
     "grade_id": "cell-8d661d84a41cba4e",
     "locked": false,
     "points": 0,
     "schema_version": 2,
     "solution": true
    }
   },
   "source": [
    "YOUR ANSWER HERE"
   ]
  },
  {
   "cell_type": "markdown",
   "metadata": {},
   "source": [
    "### Question 2.0.4.\n",
    "rubric={correctness:1}\n",
    "\n",
    "Use LaTeX to create the linear regression equation pictured below:\n",
    "\n",
    "<table><tr><td>\n",
    "    <img src=\"imgs/ols.png\" width=\"200\"/>\n",
    "</td></tr></table>"
   ]
  },
  {
   "cell_type": "markdown",
   "metadata": {
    "deletable": false,
    "nbgrader": {
     "cell_type": "markdown",
     "checksum": "c7138dcaac75fd29ae0f070c2abe46eb",
     "grade": true,
     "grade_id": "cell-fb4637134ff333bc",
     "locked": false,
     "points": 0,
     "schema_version": 2,
     "solution": true
    }
   },
   "source": [
    "YOUR ANSWER HERE"
   ]
  },
  {
   "cell_type": "markdown",
   "metadata": {},
   "source": [
    "### Question 2.0.5.\n",
    "rubric={correctness:1}\n",
    "\n",
    "Use LaTeX to create the sample variance equation pictured below:\n",
    "\n",
    "<table><tr><td>\n",
    "    <img src=\"imgs/variance.png\" width=\"150\"/>\n",
    "</td></tr></table>"
   ]
  },
  {
   "cell_type": "markdown",
   "metadata": {
    "deletable": false,
    "nbgrader": {
     "cell_type": "markdown",
     "checksum": "bb7857872cf328a03b552332d96e8068",
     "grade": true,
     "grade_id": "cell-5223c052c27938bc",
     "locked": false,
     "points": 0,
     "schema_version": 2,
     "solution": true
    }
   },
   "source": [
    "YOUR ANSWER HERE"
   ]
  },
  {
   "cell_type": "markdown",
   "metadata": {},
   "source": [
    "## 3. Creating your own blog using GitHub Pages\n",
    "\n",
    "### Question 3.0.1.\n",
    "rubric={mechanics:10}\n",
    "\n",
    "- To learn the basics of how to set-up a Jekyll-based blog hosted on Github, follow [this guide](https://github.com/ttimbers/lesson-github-pages/blob/master/lesson/lesson.md) and review what we have done in class.\n",
    "- Make sure that you create a minimum of one blog post on this blog (it can be as short as one paragraph).\n",
    "- Take a screenshot of your final blog as evidence that you followed the tutorial.\n",
    "\n",
    "Some ideas for your blog post:\n",
    "\n",
    "* something that you discussed with David in 542\n",
    "* a personal project you've worked on\n",
    "* a lab you found particularly interesting in the MDS program so far\n",
    "* a research paper or project from your field\n",
    "* anything else...\n",
    "\n",
    "*note - If you already have created a GitHub Pages blog outside of MDS that uses your GitHub.com username as the repository name then you can choose a different repository name than the above tutorial suggests (you will have two blogs and you can delete one later, after this course). This means you will have a different URL for this website (which you can find under the GitHub Pages panel in the Settings tab.*.\n"
   ]
  },
  {
   "cell_type": "markdown",
   "metadata": {},
   "source": [
    "> INSERT A SCREENSHOT OF YOUR BLOG HERE"
   ]
  },
  {
   "cell_type": "markdown",
   "metadata": {},
   "source": [
    "## 4. Explore other Jekyll templates\n",
    "\n",
    "### Question 4.0.1.\n",
    "rubric={mechanics:5}\n",
    "\n",
    "- Choose a different blog template from the examples [jekyllthemes.org](http://jekyllthemes.org/) and fork it.\n",
    "- Provide a link to your fork as deliverable for this exercise.\n",
    "\n",
    "*hint - When you do this, choose a different repository name than your previous one for Question 4.0.0. so that you do not have to change your first's blog repository name. This means you will have a different URL for this website (which you can find under the GitHub Pages panel in the Settings tab.*"
   ]
  },
  {
   "cell_type": "markdown",
   "metadata": {},
   "source": [
    "> PASTE A LINK TO YOUR BLOG HERE"
   ]
  },
  {
   "cell_type": "markdown",
   "metadata": {},
   "source": [
    "## 5. Contribute to someone else's blog\n",
    "\n",
    "Git and GitHub are tools that were designed for collaboration. Let's now put them into practice for that purpose by contributing to someone else's blog. Because this is someone else's project you will be contributing to, the polite and professional way to do this is to [Fork](https://help.github.com/articles/fork-a-repo/) a copy of their repository on GitHub, make a change (which you need to add and commit), and then send a [Pull request](https://help.github.com/articles/creating-a-pull-request/) (PR) back to the repository you forked to let them know about your suggested change.\n",
    "\n",
    "### Question 5.0.1.\n",
    "rubric={mechanics:5}\n",
    "\n",
    "- Find a partner and fork their blog repo, make a useful change (e.g., fix a typo) and submit a pull request.\n",
    "- Merge the pull request sent to you from your partner."
   ]
  },
  {
   "cell_type": "markdown",
   "metadata": {},
   "source": [
    "> Pull request you submitted: PASTE LINK HERE\n",
    "\n",
    "> Merged pull request sent to you from your partner: PASTE LINK HERE \n",
    "\n",
    "*note - if you do not want to accept the partner's pull request for some reason please write that here (no need to be specific as to why)*"
   ]
  },
  {
   "cell_type": "markdown",
   "metadata": {},
   "source": [
    "## 6. Turn a GitHub repo into a collection of interactive notebooks using mybinder\n",
    "\n",
    "Blogs are a great way to share your work, thoughts and opinions. One thing that is challenging/limiting however, is having interactive/executable code on static GitHub Pages websites. So an alternative way to share some work where the consumer/reader would benefit from being able to run the code themselves is to use [mybinder](https://mybinder.org/) to turn static Jupyter notebook file(s) hosted on GitHub.com into an executable/runnable notebook!\n",
    "\n",
    "### (Optional) Question 6.0.1.\n",
    "rubric={mechanics:1}\n",
    "\n",
    "- Create a GitHub repository on GitHub.com that contains at least one Jupyter notebook. This Jupyter notebook should use a Python kernel and contain at least 2 Markdown and 2 code cells (that have an output). \n",
    "- Follow the steps at https://mybinder.org/ to create an executable environment for your code. And edit your GitHub repository's README so that it includes a binder badge so that you (and others) can visit this executable environment again and again.\n",
    "- After following the two steps above, paste a link to your GitHub repo below:"
   ]
  },
  {
   "cell_type": "markdown",
   "metadata": {},
   "source": [
    "> PASTE A LINK TO YOUR GITHUB.COM REPO HERE"
   ]
  },
  {
   "cell_type": "markdown",
   "metadata": {},
   "source": [
    "## 7. Install another kernel for use with Jupyter\n",
    "\n",
    "You have now used Jupyter to run both R and Python kernels. Did you know that Jupyter can run even more languages than those two? Julia (another programming language on the Data Science horizon) is one example, but there are many many more. \n",
    "\n",
    "### (Optional) Question 7.0.1.\n",
    "rubric={mechanics:1}\n",
    "\n",
    "- Look through this table to see all of the possible kernels available for Jupyter: https://github.com/jupyter/jupyter/wiki/Jupyter-kernels\n",
    "- Choose one kernel from that table and try to install it. \n",
    "- Create a new Jupyter notebook using the newly installed kernel and create at least one code cell that demonstrates that kernel works (the cell should have some output).\n",
    "- Push that notebook to this homework repository and paste a link to that notebook below:"
   ]
  },
  {
   "cell_type": "markdown",
   "metadata": {},
   "source": [
    "> PASTE A LINK TO JUPYTER NOTEBOOK FILE THAT USES YOUR NEWLY INSTALLED KERNEL HERE"
   ]
  }
 ],
 "metadata": {
  "kernelspec": {
   "display_name": "Python 3",
   "language": "python",
   "name": "python3"
  },
  "language_info": {
   "codemirror_mode": {
    "name": "ipython",
    "version": 3
   },
   "file_extension": ".py",
   "mimetype": "text/x-python",
   "name": "python",
   "nbconvert_exporter": "python",
   "pygments_lexer": "ipython3",
   "version": "3.6.5"
  }
 },
 "nbformat": 4,
 "nbformat_minor": 2
}
