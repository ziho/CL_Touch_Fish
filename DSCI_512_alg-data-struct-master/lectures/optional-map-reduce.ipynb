{
 "cells": [
  {
   "cell_type": "markdown",
   "id": "c1711877",
   "metadata": {},
   "source": [
    "## Python `map` and `reduce` (15 min)"
   ]
  },
  {
   "cell_type": "markdown",
   "id": "76174ae9",
   "metadata": {},
   "source": [
    "- You may have heard about [MapReduce](https://en.wikipedia.org/wiki/MapReduce) in the context of big data.\n",
    "- We won't get into details here, but at least we will introduce `map` and `reduce`.\n",
    "- You also saw these in DSCI 511 (the R part), we'll go into slightly more detail and do it in Python."
   ]
  },
  {
   "cell_type": "markdown",
   "id": "b60e9739",
   "metadata": {},
   "source": [
    "#### `map`"
   ]
  },
  {
   "cell_type": "code",
   "execution_count": 3,
   "id": "4eb87219",
   "metadata": {},
   "outputs": [],
   "source": [
    "def times_two(x):\n",
    "    return x*2\n",
    "\n",
    "data = [1, 2, 3, 4]"
   ]
  },
  {
   "cell_type": "code",
   "execution_count": 4,
   "id": "8303948b",
   "metadata": {},
   "outputs": [
    {
     "data": {
      "text/plain": [
       "[2, 4, 6, 8]"
      ]
     },
     "execution_count": 4,
     "metadata": {},
     "output_type": "execute_result"
    }
   ],
   "source": [
    "list(map(times_two, data))"
   ]
  },
  {
   "cell_type": "code",
   "execution_count": 5,
   "id": "7c7b52e9",
   "metadata": {},
   "outputs": [
    {
     "data": {
      "text/plain": [
       "[0, 1, 2, 3, 4]"
      ]
     },
     "execution_count": 5,
     "metadata": {},
     "output_type": "execute_result"
    }
   ],
   "source": [
    "list(range(5))"
   ]
  },
  {
   "cell_type": "markdown",
   "id": "2b8f71a4",
   "metadata": {},
   "source": [
    "- In more recent versions of Python, `map` returns a map object which is essentially a generator.\n",
    "- The idea is that you might not want to store the results in memory, you probably just want to iterate through them."
   ]
  },
  {
   "cell_type": "code",
   "execution_count": 6,
   "id": "a84ffc17",
   "metadata": {},
   "outputs": [],
   "source": [
    "result = map(times_two, data)"
   ]
  },
  {
   "cell_type": "code",
   "execution_count": 7,
   "id": "eb1210b9",
   "metadata": {},
   "outputs": [
    {
     "ename": "TypeError",
     "evalue": "'map' object is not subscriptable",
     "output_type": "error",
     "traceback": [
      "\u001b[0;31m---------------------------------------------------------------------------\u001b[0m",
      "\u001b[0;31mTypeError\u001b[0m                                 Traceback (most recent call last)",
      "\u001b[0;32m<ipython-input-7-46ea893eefec>\u001b[0m in \u001b[0;36m<module>\u001b[0;34m\u001b[0m\n\u001b[0;32m----> 1\u001b[0;31m \u001b[0mresult\u001b[0m\u001b[0;34m[\u001b[0m\u001b[0;36m2\u001b[0m\u001b[0;34m]\u001b[0m\u001b[0;34m\u001b[0m\u001b[0;34m\u001b[0m\u001b[0m\n\u001b[0m",
      "\u001b[0;31mTypeError\u001b[0m: 'map' object is not subscriptable"
     ]
    }
   ],
   "source": [
    "result[2]"
   ]
  },
  {
   "cell_type": "code",
   "execution_count": 8,
   "id": "1db75ad3",
   "metadata": {},
   "outputs": [
    {
     "data": {
      "text/plain": [
       "2"
      ]
     },
     "execution_count": 8,
     "metadata": {},
     "output_type": "execute_result"
    }
   ],
   "source": [
    "next(result)"
   ]
  },
  {
   "cell_type": "code",
   "execution_count": 9,
   "id": "aef682e2",
   "metadata": {},
   "outputs": [
    {
     "data": {
      "text/plain": [
       "4"
      ]
     },
     "execution_count": 9,
     "metadata": {},
     "output_type": "execute_result"
    }
   ],
   "source": [
    "next(result)"
   ]
  },
  {
   "cell_type": "markdown",
   "id": "7be23e5c",
   "metadata": {},
   "source": [
    "You can explicitly cast the result to a list: "
   ]
  },
  {
   "cell_type": "code",
   "execution_count": 10,
   "id": "17476d68",
   "metadata": {},
   "outputs": [
    {
     "data": {
      "text/plain": [
       "[2, 4, 6, 8]"
      ]
     },
     "execution_count": 10,
     "metadata": {},
     "output_type": "execute_result"
    }
   ],
   "source": [
    "list(map(times_two, data))"
   ]
  },
  {
   "cell_type": "code",
   "execution_count": 11,
   "id": "64453752",
   "metadata": {},
   "outputs": [
    {
     "data": {
      "text/plain": [
       "[2, 4, 6, 8]"
      ]
     },
     "execution_count": 11,
     "metadata": {},
     "output_type": "execute_result"
    }
   ],
   "source": [
    "[e for e in map(times_two, data)]"
   ]
  },
  {
   "cell_type": "markdown",
   "id": "e4d094f1",
   "metadata": {},
   "source": [
    "But often this is unnecessary and just takes up more time/memory for no reason."
   ]
  },
  {
   "cell_type": "markdown",
   "id": "0c507453",
   "metadata": {},
   "source": [
    "- You will see something similar to `map` going by many names, like `apply` in pandas. In R there is also `purrr:map`. \n",
    "- All of these have the same idea: apply a function to each element of a list.\n",
    "- Or in fact it doesn't even have to be a list, it could be a generator:"
   ]
  },
  {
   "cell_type": "code",
   "execution_count": 128,
   "id": "27b387bc",
   "metadata": {},
   "outputs": [],
   "source": [
    "result = map(times_two, map(times_two, data))"
   ]
  },
  {
   "cell_type": "code",
   "execution_count": 129,
   "id": "e33bf05a",
   "metadata": {},
   "outputs": [
    {
     "data": {
      "text/plain": [
       "<map at 0xa224a7da0>"
      ]
     },
     "execution_count": 129,
     "metadata": {},
     "output_type": "execute_result"
    }
   ],
   "source": [
    "result"
   ]
  },
  {
   "cell_type": "code",
   "execution_count": 130,
   "id": "3e265ad8",
   "metadata": {},
   "outputs": [
    {
     "data": {
      "text/plain": [
       "4"
      ]
     },
     "execution_count": 130,
     "metadata": {},
     "output_type": "execute_result"
    }
   ],
   "source": [
    "next(result)"
   ]
  },
  {
   "cell_type": "markdown",
   "id": "fbaf21b8",
   "metadata": {},
   "source": [
    "Here, we applied `map` to a map object. This is already an example of the interchangeable nature of lists and generators. "
   ]
  },
  {
   "cell_type": "markdown",
   "id": "d825e064",
   "metadata": {},
   "source": [
    "Note: you'll often see people using `lambda` functions inline, as in:"
   ]
  },
  {
   "cell_type": "code",
   "execution_count": 131,
   "id": "727a7312",
   "metadata": {},
   "outputs": [
    {
     "data": {
      "text/plain": [
       "[2, 4, 6, 8]"
      ]
     },
     "execution_count": 131,
     "metadata": {},
     "output_type": "execute_result"
    }
   ],
   "source": [
    "list(map(lambda x: x*2, data))"
   ]
  },
  {
   "cell_type": "markdown",
   "id": "b300f127",
   "metadata": {},
   "source": [
    "This is more convenient than actually naming a function `times_two`, which feels unecessary."
   ]
  },
  {
   "cell_type": "markdown",
   "id": "25c3eab9",
   "metadata": {},
   "source": [
    "#### `reduce`"
   ]
  },
  {
   "cell_type": "code",
   "execution_count": 132,
   "id": "c411c35b",
   "metadata": {},
   "outputs": [],
   "source": [
    "from functools import reduce"
   ]
  },
  {
   "cell_type": "markdown",
   "id": "0867ec7e",
   "metadata": {},
   "source": [
    "- Another common operation is to reduce, or aggregate, data.\n",
    "- Examples: sum, max"
   ]
  },
  {
   "cell_type": "code",
   "execution_count": 133,
   "id": "23c7fc2d",
   "metadata": {},
   "outputs": [
    {
     "data": {
      "text/plain": [
       "[1, 2, 3, 4]"
      ]
     },
     "execution_count": 133,
     "metadata": {},
     "output_type": "execute_result"
    }
   ],
   "source": [
    "data"
   ]
  },
  {
   "cell_type": "code",
   "execution_count": 134,
   "id": "bd5b7f4c",
   "metadata": {},
   "outputs": [
    {
     "data": {
      "text/plain": [
       "10"
      ]
     },
     "execution_count": 134,
     "metadata": {},
     "output_type": "execute_result"
    }
   ],
   "source": [
    "sum(data)"
   ]
  },
  {
   "cell_type": "code",
   "execution_count": 135,
   "id": "2a60d6a9",
   "metadata": {},
   "outputs": [
    {
     "data": {
      "text/plain": [
       "4"
      ]
     },
     "execution_count": 135,
     "metadata": {},
     "output_type": "execute_result"
    }
   ],
   "source": [
    "max(data)"
   ]
  },
  {
   "cell_type": "markdown",
   "id": "37e6f03f",
   "metadata": {},
   "source": [
    "- These are examples of a general phenomenon in which data are aggregated **pairwise**. \n",
    "- That is, $1+2+3+4=((1+2)+3)+4$\n",
    "- And $\\max\\{1,2,3,4\\}=\\max\\{\\max\\{\\max\\{1,2\\},3\\},4\\}$"
   ]
  },
  {
   "cell_type": "code",
   "execution_count": 136,
   "id": "7462f9e3",
   "metadata": {},
   "outputs": [
    {
     "data": {
      "text/plain": [
       "10"
      ]
     },
     "execution_count": 136,
     "metadata": {},
     "output_type": "execute_result"
    }
   ],
   "source": [
    "reduce(lambda x, y: x+y, data)"
   ]
  },
  {
   "cell_type": "code",
   "execution_count": 137,
   "id": "18b8f893",
   "metadata": {},
   "outputs": [
    {
     "data": {
      "text/plain": [
       "4"
      ]
     },
     "execution_count": 137,
     "metadata": {},
     "output_type": "execute_result"
    }
   ],
   "source": [
    "reduce(lambda x, y: x if x > y else y, data)"
   ]
  },
  {
   "cell_type": "markdown",
   "id": "6eeffd38",
   "metadata": {},
   "source": [
    "Conveniently, `reduce` can take in a generator as the data, so it can be coupled effectively with `map`. For example:"
   ]
  },
  {
   "cell_type": "code",
   "execution_count": 138,
   "id": "0d961420",
   "metadata": {},
   "outputs": [
    {
     "data": {
      "text/plain": [
       "20"
      ]
     },
     "execution_count": 138,
     "metadata": {},
     "output_type": "execute_result"
    }
   ],
   "source": [
    "reduce(lambda x, y: x+y, map(lambda x: x*2, data))"
   ]
  },
  {
   "cell_type": "markdown",
   "id": "5b482258",
   "metadata": {},
   "source": [
    "Here, we multiplied all the numbers by $2$ and then added them together. The generator from `map` was aggregated by `reduce`."
   ]
  },
  {
   "cell_type": "markdown",
   "id": "70d3f6a8",
   "metadata": {},
   "source": [
    "`reduce` and recursion:\n",
    "\n",
    "- We tend to think of these functions recursively, especially `reduce`. \n",
    "- In fact, here is an implementation of `reduce`:"
   ]
  },
  {
   "cell_type": "code",
   "execution_count": 139,
   "id": "1a4f2581",
   "metadata": {},
   "outputs": [],
   "source": [
    "def my_reduce(func, data):\n",
    "    \"\"\" \n",
    "    Apply a function to pairs of elements in data, recursively from left to right.\n",
    "\n",
    "    Parameters\n",
    "    ----------\n",
    "    func : function\n",
    "        a function taking two arguments, that we will reduce on\n",
    "    data : list\n",
    "        a list of values\n",
    "\n",
    "    Returns\n",
    "    -------\n",
    "    object \n",
    "        in the interim this will return smaller lists, but the final result will be one object\n",
    "\n",
    "    Example\n",
    "    --------\n",
    "    >>> data = [1,2,3,4]\n",
    "    >>> my_reduce(lambda x,y: x*y, data)\n",
    "    24\n",
    "    \"\"\"\n",
    "\n",
    "    if len(data) == 1:\n",
    "        return data[0]\n",
    "\n",
    "    # Apply the function to the first two elements\n",
    "    new_element = func(data[0], data[1])\n",
    "\n",
    "    # Concatenate the new element and the rest of the list\n",
    "    new_list = [new_element] + data[2:]\n",
    "\n",
    "    # Recursively reduce on the new list\n",
    "    return my_reduce(func, new_list)"
   ]
  },
  {
   "cell_type": "code",
   "execution_count": 140,
   "id": "63f28852",
   "metadata": {},
   "outputs": [
    {
     "data": {
      "text/plain": [
       "10"
      ]
     },
     "execution_count": 140,
     "metadata": {},
     "output_type": "execute_result"
    }
   ],
   "source": [
    "my_reduce(lambda x, y: x+y, data)"
   ]
  },
  {
   "cell_type": "markdown",
   "id": "2b6a7e60",
   "metadata": {},
   "source": [
    "- The ideas of data aggregation and recursion are tied together.\n",
    "- You just need to define an aggregration operation on two elements, then apply recursively. "
   ]
  },
  {
   "cell_type": "markdown",
   "id": "90126745",
   "metadata": {},
   "source": [
    "Summary:\n",
    "\n",
    "| Python name | Other names | Inputs      |  Outputs |\n",
    "|-------------|-------------|-------------|----------|\n",
    "|   `map`     |   apply     | a function of one argument and a list/iterable | a new list/iterable with the function applied to each element |\n",
    "| `reduce`    | aggregate  | a function of two arguments and a list/iterable | a single value with the function applied recursively to pairs of elements |\n"
   ]
  },
  {
   "cell_type": "code",
   "execution_count": null,
   "id": "f622f930",
   "metadata": {},
   "outputs": [],
   "source": []
  },
  {
   "cell_type": "code",
   "execution_count": null,
   "id": "37a39339",
   "metadata": {},
   "outputs": [],
   "source": []
  },
  {
   "cell_type": "markdown",
   "id": "92d71a30",
   "metadata": {},
   "source": [
    "## (optional) Exercise 7: `map` and `reduce`\n",
    "rubric={accuracy:1}\n",
    "\n",
    "**NOTE**: this optional exercise pertains to the optional section of the lecture video on `map` and `reduce`.\n",
    "\n",
    "Write a function `commonLetters` that takes in a list of strings, converts the strings to lower case and finds all the characters that are present in _all_ the strings. Your function should return the result as a Python `set` of characters. Your function must use Python's `map` and `reduce` functions for the heavy lifting - no loops, recursion, or other trickery! You must also write at least 3 tests for your function, in addition to the test provided.\n",
    "\n",
    "Some potentially helpful functions:\n",
    "\n",
    "- You can convert a string `s` to lower case with [`s.lower()`](https://docs.python.org/3/library/stdtypes.html#str.lower).\n",
    "- You can find the intersection (common elements) between two sets `a` and `b` with [`a.intersection(b)`](https://docs.python.org/3.7/library/stdtypes.html#frozenset.intersection), or `a & b` for short."
   ]
  },
  {
   "cell_type": "code",
   "execution_count": 45,
   "id": "11193491",
   "metadata": {},
   "outputs": [
    {
     "data": {
      "text/plain": [
       "'blah blah i am saying stuff'"
      ]
     },
     "execution_count": 45,
     "metadata": {},
     "output_type": "execute_result"
    }
   ],
   "source": [
    "# Provided example code\n",
    "s = \"BLAH blah I am sayIng Stuff\"\n",
    "s.lower()"
   ]
  },
  {
   "cell_type": "code",
   "execution_count": 46,
   "id": "27be9f36",
   "metadata": {},
   "outputs": [
    {
     "data": {
      "text/plain": [
       "{99, 'b', 'c'}"
      ]
     },
     "execution_count": 46,
     "metadata": {},
     "output_type": "execute_result"
    }
   ],
   "source": [
    "set1 = {'a', 'b', 'c', 99}\n",
    "set2 = {'b', 'c', 'd', 99}\n",
    "set1.intersection(set2)"
   ]
  },
  {
   "cell_type": "code",
   "execution_count": 1,
   "id": "febc7f56",
   "metadata": {},
   "outputs": [],
   "source": [
    "from functools import reduce"
   ]
  },
  {
   "cell_type": "code",
   "execution_count": 2,
   "id": "fb19f962",
   "metadata": {},
   "outputs": [],
   "source": [
    "### BEGIN SOLUTION\n",
    "\n",
    "def commonLetters(strings):\n",
    "    \"\"\"Finds the characters common to all the strings given and \n",
    "       returns them as a Python set. Case insensitive.\n",
    "\n",
    "    Parameters\n",
    "    ----------\n",
    "    strings : list\n",
    "        strings you want to find common characters between\n",
    "\n",
    "    Returns\n",
    "    -------\n",
    "    set\n",
    "        the common characters present in all strings\n",
    "\n",
    "    Examples\n",
    "    --------\n",
    "    >>>  commonLetters([\"123\", \"345\",\"367\"])\n",
    "    {'3'}\n",
    "    \"\"\"\n",
    "\n",
    "    lower_strings = map(lambda x: x.lower(), strings)\n",
    "    set_strings = map(lambda x: set(x), lower_strings)\n",
    "    return reduce(lambda x, y: x & y, set_strings)\n",
    "\n",
    "### END SOLUTION"
   ]
  },
  {
   "cell_type": "code",
   "execution_count": 3,
   "id": "e31c21ac",
   "metadata": {},
   "outputs": [],
   "source": [
    "# provided code\n",
    "assert commonLetters([\"abc\", \"ABC\", \"AbCdE\", \"the quick brown fox jumped over the lazy dog\",\n",
    "                      \"abraham lincoln\", \"abracadabra\", \"chEEs3\"]) == {'c'}"
   ]
  },
  {
   "cell_type": "code",
   "execution_count": 4,
   "id": "653c3e72",
   "metadata": {},
   "outputs": [],
   "source": [
    "### BEGIN SOLUTION\n",
    "\n",
    "assert commonLetters([\"abc\", \"def\"]) == set()\n",
    "assert commonLetters([\"Aac\", 'Bbaccc', 'cccbbbbaaa']) == {'a', 'c'}\n",
    "assert commonLetters([\"\", \"the quick brown fox jumped over the lazy dog\"]) == set()\n",
    "\n",
    "### END SOLUTION"
   ]
  },
  {
   "cell_type": "code",
   "execution_count": null,
   "id": "b9686bbf",
   "metadata": {},
   "outputs": [],
   "source": []
  },
  {
   "cell_type": "code",
   "execution_count": null,
   "id": "ff44da78",
   "metadata": {},
   "outputs": [],
   "source": [
    "\n"
   ]
  },
  {
   "cell_type": "markdown",
   "id": "698ec2ea",
   "metadata": {},
   "source": [
    "## True/False\n",
    "\n",
    "1. Python generators contain one or more `yield` statements instead of `return` statements.\n",
    "2. Python generators allow \"random access\", i.e. `gen[3]` to get the 4th element.\n",
    "3. `map(f, x)` applies the function `f` to every element of `x`.\n",
    "4. It's is reasonable to use the same function `f` with both `map` and `reduce`."
   ]
  },
  {
   "cell_type": "code",
   "execution_count": null,
   "id": "1ab0cba9",
   "metadata": {},
   "outputs": [],
   "source": []
  }
 ],
 "metadata": {
  "kernelspec": {
   "display_name": "Python [conda env:dsci512env]",
   "language": "python",
   "name": "conda-env-dsci512env-py"
  },
  "language_info": {
   "codemirror_mode": {
    "name": "ipython",
    "version": 3
   },
   "file_extension": ".py",
   "mimetype": "text/x-python",
   "name": "python",
   "nbconvert_exporter": "python",
   "pygments_lexer": "ipython3",
   "version": "3.9.7"
  }
 },
 "nbformat": 4,
 "nbformat_minor": 5
}
