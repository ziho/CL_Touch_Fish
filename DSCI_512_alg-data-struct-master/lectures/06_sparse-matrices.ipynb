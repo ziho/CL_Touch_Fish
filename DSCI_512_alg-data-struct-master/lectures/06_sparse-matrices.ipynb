{
 "cells": [
  {
   "cell_type": "markdown",
   "metadata": {},
   "source": [
    "# DSCI 512 Lecture 6\n",
    "\n"
   ]
  },
  {
   "cell_type": "code",
   "execution_count": 1,
   "metadata": {},
   "outputs": [],
   "source": [
    "import numpy as np\n",
    "import networkx as nx\n",
    "import scipy.sparse\n",
    "import urllib.request\n",
    "from collections import Counter"
   ]
  },
  {
   "cell_type": "code",
   "execution_count": 2,
   "metadata": {},
   "outputs": [],
   "source": [
    "# The defaults are hard to see on a projector in class\n",
    "draw_params = {\"node_color\" : \"pink\", \"font_size\" : 20, \"with_labels\" : True, \"arrowsize\" : 30}"
   ]
  },
  {
   "cell_type": "markdown",
   "metadata": {},
   "source": [
    "Outline:\n",
    "\n",
    "- Centrality, PageRank (15 min)\n",
    "- Other graph properties (5 min)\n",
    "- Graph representations: adjacency matrices, adjacency lists (5 min)\n",
    "- Sparse matrices part 1 (15 min)\n",
    "- Break (5 min)\n",
    "- Sparse matrices part 2 (15 min)\n",
    "- Sparse matrix timing (15 min)\n",
    "- Activities (time-permitting)"
   ]
  },
  {
   "cell_type": "markdown",
   "metadata": {},
   "source": [
    "## Learning objectives\n",
    "\n",
    "- Describe the PageRank algorithm.\n",
    "- Convert between adjacency matrices and their corresponding graphs.\n",
    "- Manipulate scipy sparse matrix objects in Python.\n",
    "- Analyze the space complexity of sparse and dense matrix representations.\n",
    "- Appropriately use row-wise vs. column-wise sparse matrices."
   ]
  },
  {
   "cell_type": "markdown",
   "metadata": {},
   "source": [
    "## Announcements\n",
    "\n",
    "- Quiz today\n",
    "  - Info at https://github.ubc.ca/mds-2021-22/DSCI_512_alg-data-struct_students/issues/6\n",
    "  - Rooms: if your UBC student number is odd then CHBE 102, if your UBC student number is even then CHBE 103.\n",
    "- Lab 3 due Sunday 12pm"
   ]
  },
  {
   "cell_type": "markdown",
   "metadata": {},
   "source": [
    "## Centrality, PageRank (10 min)\n"
   ]
  },
  {
   "cell_type": "code",
   "execution_count": 3,
   "metadata": {},
   "outputs": [],
   "source": [
    "sfg = nx.scale_free_graph(10, seed=20)"
   ]
  },
  {
   "cell_type": "code",
   "execution_count": 4,
   "metadata": {},
   "outputs": [
    {
     "data": {
      "image/png": "[encoded data removed]",
      "text/plain": [
       "<Figure size 432x288 with 1 Axes>"
      ]
     },
     "metadata": {},
     "output_type": "display_data"
    }
   ],
   "source": [
    "nx.draw(sfg, **draw_params, pos=nx.spring_layout(sfg, seed=0))"
   ]
  },
  {
   "cell_type": "markdown",
   "metadata": {},
   "source": [
    "- Which is the most \"important\" webpage here? Perhaps $0$ or $1$? \n",
    "- This is a question known as [centrality](https://en.wikipedia.org/wiki/Centrality). \n",
    "  - See also the idea of a [hub](https://en.wikipedia.org/wiki/Hub_(network_science)) (not discussed further).\n",
    "- We'll focus on a particular measure of centrality, [PageRank](https://en.wikipedia.org/wiki/PageRank).\n",
    "    - This is the algorithm that made Google the best search engine."
   ]
  },
  {
   "cell_type": "markdown",
   "metadata": {},
   "source": [
    "- Conceptual model: let websites be nodes in a graph.\n",
    "  - Put a directed edge from site $A$ to $B$ if site $A$ links to site $B$.\n",
    "- There is a specific definition of PageRank.\n",
    "  - The way to find it is mathematically beautiful and is essentially a linear algebra problem.\n",
    "  - That is beyond the scope here."
   ]
  },
  {
   "cell_type": "code",
   "execution_count": null,
   "metadata": {},
   "outputs": [],
   "source": []
  },
  {
   "cell_type": "markdown",
   "metadata": {},
   "source": [
    "- But we can approximate the PageRank with Monte Carlo, with a \"simulated web surfer\", as follows:\n",
    "  1. We start at some random node\n",
    "  2. With probability $\\alpha$ choose a completely random node in the graph (this emulates the user going to a random new page); with probability $(1−\\alpha)$ choose a random neighbour of the current node (this emulates the user clicking on a link on the page). \n",
    "  3. Repeat Step 2 $n$ times.\n",
    "  4. The ranking of each node is proportional to the number of times this random walk visits the node.\n",
    "- To repeat, this is **not** how Google computes PageRank; there is a more elegant/efficient way."
   ]
  },
  {
   "cell_type": "code",
   "execution_count": null,
   "metadata": {},
   "outputs": [],
   "source": []
  },
  {
   "cell_type": "code",
   "execution_count": 5,
   "metadata": {},
   "outputs": [],
   "source": [
    "def page_rank(G, alpha=0.1, iters=100_000):\n",
    "    \"\"\"\n",
    "    Compute the PageRank for all nodes in the directed graph G.\n",
    "    Returns a dictionary of the PageRank for all nodes.\n",
    "\n",
    "    Parameters\n",
    "    ----------\n",
    "    G : networkx.classes.graph.DiGraph\n",
    "        the graph\n",
    "    alpha : float\n",
    "        the probability of surfing to a random page\n",
    "    iters : int\n",
    "        the number of iterations of simulation to perform\n",
    "\n",
    "    Returns\n",
    "    -------\n",
    "    collections.Counter \n",
    "        A dictionary containing the PageRank for each node.\n",
    "\n",
    "    Example\n",
    "    --------\n",
    "    >>> pr = page_rank(nx.scale_free_graph(3))\n",
    "    Counter({2: 33349, 0: 33371, 1: 33280})\n",
    "    \"\"\"\n",
    "\n",
    "    visited = Counter()\n",
    "\n",
    "    nodes = G.nodes()\n",
    "    current_node = np.random.choice(nodes)\n",
    "    for i in range(iters):\n",
    "        if np.random.random() < alpha:\n",
    "            current_node = np.random.choice(nodes)\n",
    "        else:\n",
    "            current_node = np.random.choice(list(G.neighbors(current_node)))\n",
    "        visited[current_node] += 1\n",
    "\n",
    "    return visited"
   ]
  },
  {
   "cell_type": "markdown",
   "metadata": {},
   "source": [
    "Let's look at the code:\n",
    "\n",
    "- We start at a random node.\n",
    "- For each iteration:\n",
    "- With probability $\\alpha$, go to a random node.\n",
    "- Else (with probability $1-\\alpha$) go to a random neighbour.\n",
    "- Keep score whenever you visit a node.\n",
    "- That's it!"
   ]
  },
  {
   "cell_type": "code",
   "execution_count": 6,
   "metadata": {},
   "outputs": [],
   "source": [
    "pr = page_rank(sfg)"
   ]
  },
  {
   "cell_type": "code",
   "execution_count": 7,
   "metadata": {},
   "outputs": [
    {
     "data": {
      "text/plain": [
       "[(0, 36887),\n",
       " (2, 34113),\n",
       " (1, 18413),\n",
       " (4, 3691),\n",
       " (3, 1875),\n",
       " (9, 1039),\n",
       " (6, 1019),\n",
       " (5, 1008),\n",
       " (8, 985),\n",
       " (7, 970)]"
      ]
     },
     "execution_count": 7,
     "metadata": {},
     "output_type": "execute_result"
    }
   ],
   "source": [
    "pr.most_common()"
   ]
  },
  {
   "cell_type": "markdown",
   "metadata": {},
   "source": [
    "Here's the graph again, so it's nearby:"
   ]
  },
  {
   "cell_type": "code",
   "execution_count": 8,
   "metadata": {},
   "outputs": [
    {
     "data": {
      "image/png": "[encoded data removed]",
      "text/plain": [
       "<Figure size 432x288 with 1 Axes>"
      ]
     },
     "metadata": {},
     "output_type": "display_data"
    }
   ],
   "source": [
    "nx.draw(sfg, **draw_params, pos=nx.spring_layout(sfg, seed=20))"
   ]
  },
  {
   "cell_type": "markdown",
   "metadata": {},
   "source": [
    "- **Question**: node $0$ is has the highest PageRank; that makes sense. But why is node $2$ above node $4$? \n",
    "\n",
    "<br><br><br><br><br><br><br><br>\n",
    "\n",
    "- **Answer**: because node $0$ is the most important, and there is no path from $0$ to $4$. \n",
    "- So, a link from a popular page is more valuable than a link from a no-name page. Makes sense!\n",
    "- We can just sort the pages by number of incoming links, and we see we get a different (worse) ranking:"
   ]
  },
  {
   "cell_type": "code",
   "execution_count": 9,
   "metadata": {},
   "outputs": [
    {
     "name": "stdout",
     "output_type": "stream",
     "text": [
      "Node 0 has 4 incoming links\n",
      "Node 4 has 3 incoming links\n",
      "Node 1 has 2 incoming links\n",
      "Node 2 has 2 incoming links\n",
      "Node 3 has 1 incoming links\n",
      "Node 5 has 0 incoming links\n",
      "Node 6 has 0 incoming links\n",
      "Node 7 has 0 incoming links\n",
      "Node 8 has 0 incoming links\n",
      "Node 9 has 0 incoming links\n"
     ]
    }
   ],
   "source": [
    "num_neigh = {i: len(list(nx.reverse_view(sfg).neighbors(i)))\n",
    "             for i in sfg.nodes()}\n",
    "for node in sorted(num_neigh, key=num_neigh.get, reverse=True):\n",
    "    print(\"Node\", node, \"has\", num_neigh[node], \"incoming links\")"
   ]
  },
  {
   "cell_type": "markdown",
   "metadata": {},
   "source": [
    "Here, indeed, we get node $4$ above nodes $1$ and $2$."
   ]
  },
  {
   "cell_type": "markdown",
   "metadata": {},
   "source": [
    "Optional note: there are two sources of \"randomness\" here:\n",
    "\n",
    "- The fact that the model is inherently probabilistic (do this with probability $\\alpha$)\n",
    "- The limitations of our simulation (start at one random node, finite number of iterations)\n",
    "\n",
    "These are very different from each other. You can mathematically find the true PageRank, which solves the second problem. The first one is not a problem though, it is just part of the definition of PageRank.\n",
    "\n",
    "You may encounter similar concepts to this in the Stat courses."
   ]
  },
  {
   "cell_type": "markdown",
   "metadata": {},
   "source": [
    "## (optional) Other graph properties (5 min)\n",
    "\n",
    "There are a lot of standard problems in graph theory, not covered in this course, such as:\n",
    "\n",
    "- Find the largest [clique](https://en.wikipedia.org/wiki/Clique_(graph_theory)) in a graph.\n",
    "- Find the largest [independent set](https://en.wikipedia.org/wiki/Independent_set_(graph_theory)) in a graph.\n",
    "- Find the [vertex cover](https://en.wikipedia.org/wiki/Vertex_cover) of a graph with the smallest number of vertices.\n",
    "- Find the smallest [dominating set](https://en.wikipedia.org/wiki/Dominating_set) in a graph.\n",
    "- [Colour](https://en.wikipedia.org/wiki/Graph_coloring) a graph with the smallest number of colours.\n",
    "\n",
    "It turns out a lot of real-world problems can be mapped to these problems, and thus solving these problems is important. \n",
    "\n",
    "- **However**, they are [NP-Complete](https://www.geeksforgeeks.org/np-completeness-set-1/).\n",
    "  - You may have heard this term.\n",
    "  - We aren't going into this here due to lack of time.\n",
    "  - But, in short, we don't have fast algorithms to solve these problems. "
   ]
  },
  {
   "cell_type": "markdown",
   "metadata": {},
   "source": [
    "## Graph representations (10 min)"
   ]
  },
  {
   "cell_type": "code",
   "execution_count": 24,
   "metadata": {},
   "outputs": [],
   "source": [
    "G = nx.bull_graph()"
   ]
  },
  {
   "cell_type": "code",
   "execution_count": 25,
   "metadata": {},
   "outputs": [
    {
     "data": {
      "image/png": "[encoded data removed]",
      "text/plain": [
       "<Figure size 432x288 with 1 Axes>"
      ]
     },
     "metadata": {},
     "output_type": "display_data"
    }
   ],
   "source": [
    "nx.draw(G, **draw_params)"
   ]
  },
  {
   "cell_type": "markdown",
   "metadata": {},
   "source": [
    "We can represent the graph as an _adjacency list_. It lists all pairs of vertices that are connected, for example $(0,1)$."
   ]
  },
  {
   "cell_type": "code",
   "execution_count": 26,
   "metadata": {},
   "outputs": [
    {
     "name": "stdout",
     "output_type": "stream",
     "text": [
      "[(0, 1), (0, 2), (1, 2), (1, 3), (2, 4)]\n"
     ]
    }
   ],
   "source": [
    "print(G.edges())"
   ]
  },
  {
   "cell_type": "markdown",
   "metadata": {},
   "source": [
    "Or, we can represent the graph as an _adjacency matrix_. "
   ]
  },
  {
   "cell_type": "code",
   "execution_count": 27,
   "metadata": {},
   "outputs": [
    {
     "data": {
      "text/plain": [
       "array([[0, 1, 1, 0, 0],\n",
       "       [1, 0, 1, 1, 0],\n",
       "       [1, 1, 0, 0, 1],\n",
       "       [0, 1, 0, 0, 0],\n",
       "       [0, 0, 1, 0, 0]])"
      ]
     },
     "execution_count": 27,
     "metadata": {},
     "output_type": "execute_result"
    }
   ],
   "source": [
    "adj = nx.adjacency_matrix(G).toarray()\n",
    "adj"
   ]
  },
  {
   "cell_type": "code",
   "execution_count": 28,
   "metadata": {},
   "outputs": [],
   "source": [
    "# adj[17,48]"
   ]
  },
  {
   "cell_type": "code",
   "execution_count": 14,
   "metadata": {},
   "outputs": [
    {
     "data": {
      "image/png": "[encoded data removed]",
      "text/plain": [
       "<Figure size 432x288 with 1 Axes>"
      ]
     },
     "metadata": {},
     "output_type": "display_data"
    }
   ],
   "source": [
    "nx.draw(G, **draw_params)"
   ]
  },
  {
   "cell_type": "markdown",
   "metadata": {},
   "source": [
    "Note that this is a symmatric matrix."
   ]
  },
  {
   "cell_type": "code",
   "execution_count": 15,
   "metadata": {},
   "outputs": [
    {
     "data": {
      "text/plain": [
       "NodeView((0, 1, 2, 3, 4))"
      ]
     },
     "execution_count": 15,
     "metadata": {},
     "output_type": "execute_result"
    }
   ],
   "source": [
    "G.nodes"
   ]
  },
  {
   "cell_type": "markdown",
   "metadata": {},
   "source": [
    "- This matrix has size `# vertices` x `# vertices`\n",
    "- This representation is often nice. For example we can check if any two nodes $i$ and $j$ are connected in $O(1)$ time:"
   ]
  },
  {
   "cell_type": "code",
   "execution_count": 16,
   "metadata": {},
   "outputs": [
    {
     "data": {
      "text/plain": [
       "1"
      ]
     },
     "execution_count": 16,
     "metadata": {},
     "output_type": "execute_result"
    }
   ],
   "source": [
    "adj[1, 3]"
   ]
  },
  {
   "cell_type": "markdown",
   "metadata": {},
   "source": [
    "Question: What is the space complexity of these two representations? \n",
    "\n",
    "<br><br><br><br><br>"
   ]
  },
  {
   "cell_type": "markdown",
   "metadata": {},
   "source": [
    "\n",
    "\n",
    "Let $E$ be the number of edges and $V$ be the number of vertices.\n",
    "\n",
    "- Adjacency list: $O(E)$\n",
    "- Adjacency matrix: $O(V^2)$"
   ]
  },
  {
   "cell_type": "code",
   "execution_count": null,
   "metadata": {},
   "outputs": [],
   "source": []
  },
  {
   "cell_type": "markdown",
   "metadata": {},
   "source": [
    "Question: Which is better?\n",
    "\n",
    "<br><br><br><br><br><br><br><br>\n",
    "\n",
    "- Answer: the list takes up less space, but lookup is slower.\n",
    "- Though, in the worst case of a complete graph, then $E=O(V^2)$ and the two are about the same space. \n",
    "\n",
    "Wouldn't it be great if we could have the lookup speed of the adjacency matrix, with the storage requirements of an adjacency list? We almost can, by storing a structured adjacency list. Enter sparse matrices."
   ]
  },
  {
   "cell_type": "code",
   "execution_count": null,
   "metadata": {},
   "outputs": [],
   "source": []
  },
  {
   "cell_type": "markdown",
   "metadata": {},
   "source": [
    "## Sparse matrices (30 min)"
   ]
  },
  {
   "cell_type": "markdown",
   "metadata": {},
   "source": [
    "*Terminology alert*: \n",
    "\n",
    "- In math, a sparse matrix is a matrix with a lot of zeros in it.\n",
    "- In coding, a sparse matrix is a data structure.\n",
    "- _This is extremely confusing!_\n",
    "- It is a good idea to use a sparse matrix data structure when you have a sparse matrix.\n",
    "  - But it is _possible_ to use a sparse matrix data structure when your matrix is not sparse.\n",
    "  - And it is _possible_ to use a dense matrix data structure (e.g. numpy array) when your matrix is sparse."
   ]
  },
  {
   "cell_type": "code",
   "execution_count": 17,
   "metadata": {},
   "outputs": [],
   "source": [
    "G = nx.ladder_graph(5)"
   ]
  },
  {
   "cell_type": "code",
   "execution_count": 18,
   "metadata": {},
   "outputs": [
    {
     "data": {
      "image/png": "[encoded data removed]",
      "text/plain": [
       "<Figure size 432x288 with 1 Axes>"
      ]
     },
     "metadata": {},
     "output_type": "display_data"
    }
   ],
   "source": [
    "nx.draw(G, **draw_params)"
   ]
  },
  {
   "cell_type": "code",
   "execution_count": 19,
   "metadata": {},
   "outputs": [],
   "source": [
    "am_ladder = nx.adjacency_matrix(G)"
   ]
  },
  {
   "cell_type": "code",
   "execution_count": 20,
   "metadata": {},
   "outputs": [
    {
     "data": {
      "text/plain": [
       "<10x10 sparse matrix of type '<class 'numpy.int64'>'\n",
       "\twith 26 stored elements in Compressed Sparse Row format>"
      ]
     },
     "execution_count": 20,
     "metadata": {},
     "output_type": "execute_result"
    }
   ],
   "source": [
    "am_ladder"
   ]
  },
  {
   "cell_type": "code",
   "execution_count": 21,
   "metadata": {},
   "outputs": [
    {
     "data": {
      "text/plain": [
       "scipy.sparse.csr.csr_matrix"
      ]
     },
     "execution_count": 21,
     "metadata": {},
     "output_type": "execute_result"
    }
   ],
   "source": [
    "type(am_ladder)"
   ]
  },
  {
   "cell_type": "markdown",
   "metadata": {},
   "source": [
    "- Sparse matrices are conceptual data structure like a list, dictionary, set, etc.\n",
    "- [`scipy.sparse`](https://docs.scipy.org/doc/scipy/reference/sparse.html) matrices are the Python implementation of this conceptual data structure, like `list`, `dict`, `set`, etc.\n",
    "- Going to that link, we can see there are many types of scipy sparse matrix.\n",
    "  - This one is a [`csr_matrix`](https://docs.scipy.org/doc/scipy/reference/generated/scipy.sparse.csr_matrix.html#scipy.sparse.csr_matrix)\n",
    "  - More later on these types.\n",
    "- You can convert them to numpy arrays with `toarray()`, but this is usually a bad idea."
   ]
  },
  {
   "cell_type": "code",
   "execution_count": 29,
   "metadata": {},
   "outputs": [
    {
     "name": "stdout",
     "output_type": "stream",
     "text": [
      "[[0 1 0 0 0 1 0 0 0 0]\n",
      " [1 0 1 0 0 0 1 0 0 0]\n",
      " [0 1 0 1 0 0 0 1 0 0]\n",
      " [0 0 1 0 1 0 0 0 1 0]\n",
      " [0 0 0 1 0 0 0 0 0 1]\n",
      " [1 0 0 0 0 0 1 0 0 0]\n",
      " [0 1 0 0 0 1 0 1 0 0]\n",
      " [0 0 1 0 0 0 1 0 1 0]\n",
      " [0 0 0 1 0 0 0 1 0 1]\n",
      " [0 0 0 0 1 0 0 0 1 0]]\n"
     ]
    }
   ],
   "source": [
    "print(am_ladder.toarray())"
   ]
  },
  {
   "cell_type": "code",
   "execution_count": 30,
   "metadata": {},
   "outputs": [
    {
     "data": {
      "text/plain": [
       "numpy.ndarray"
      ]
     },
     "execution_count": 30,
     "metadata": {},
     "output_type": "execute_result"
    }
   ],
   "source": [
    "type(am_ladder.toarray())"
   ]
  },
  {
   "cell_type": "code",
   "execution_count": 31,
   "metadata": {},
   "outputs": [
    {
     "data": {
      "text/plain": [
       "scipy.sparse.csr.csr_matrix"
      ]
     },
     "execution_count": 31,
     "metadata": {},
     "output_type": "execute_result"
    }
   ],
   "source": [
    "type(am_ladder)"
   ]
  },
  {
   "cell_type": "code",
   "execution_count": 32,
   "metadata": {},
   "outputs": [],
   "source": [
    "# make a bigger graph with more vertices/edges\n",
    "G = nx.fast_gnp_random_graph(100_000, 1e-4)"
   ]
  },
  {
   "cell_type": "code",
   "execution_count": 38,
   "metadata": {},
   "outputs": [
    {
     "data": {
      "text/plain": [
       "networkx.classes.graph.Graph"
      ]
     },
     "execution_count": 38,
     "metadata": {},
     "output_type": "execute_result"
    }
   ],
   "source": [
    "type(G)"
   ]
  },
  {
   "cell_type": "code",
   "execution_count": 33,
   "metadata": {},
   "outputs": [
    {
     "data": {
      "text/plain": [
       "100000"
      ]
     },
     "execution_count": 33,
     "metadata": {},
     "output_type": "execute_result"
    }
   ],
   "source": [
    "len(G.nodes)"
   ]
  },
  {
   "cell_type": "code",
   "execution_count": 34,
   "metadata": {},
   "outputs": [
    {
     "data": {
      "text/plain": [
       "498885"
      ]
     },
     "execution_count": 34,
     "metadata": {},
     "output_type": "execute_result"
    }
   ],
   "source": [
    "len(G.edges)"
   ]
  },
  {
   "cell_type": "code",
   "execution_count": 35,
   "metadata": {},
   "outputs": [],
   "source": [
    "am = nx.adjacency_matrix(G)"
   ]
  },
  {
   "cell_type": "code",
   "execution_count": 36,
   "metadata": {},
   "outputs": [
    {
     "data": {
      "text/plain": [
       "(100000, 100000)"
      ]
     },
     "execution_count": 36,
     "metadata": {},
     "output_type": "execute_result"
    }
   ],
   "source": [
    "am.shape"
   ]
  },
  {
   "cell_type": "code",
   "execution_count": 37,
   "metadata": {},
   "outputs": [
    {
     "data": {
      "text/plain": [
       "997770"
      ]
     },
     "execution_count": 37,
     "metadata": {},
     "output_type": "execute_result"
    }
   ],
   "source": [
    "am.nnz"
   ]
  },
  {
   "cell_type": "markdown",
   "metadata": {},
   "source": [
    "- Okay, so we have a $100,000 \\times 100,000$ matrix, which would have $10^{10}$ elements.\n",
    "- But only around $10^6$ of them are non-zero. Or 0.01% nonzero.\n",
    "  - We say \"this matrix is very sparse\".\n",
    "  \n",
    "How bad would it be to store this as a numpy array?"
   ]
  },
  {
   "cell_type": "markdown",
   "metadata": {},
   "source": [
    "Stored in full form, the matrix would take up:"
   ]
  },
  {
   "cell_type": "code",
   "execution_count": 39,
   "metadata": {},
   "outputs": [
    {
     "name": "stdout",
     "output_type": "stream",
     "text": [
      "The full matrix would take up 80 GB\n"
     ]
    }
   ],
   "source": [
    "full_size = np.prod(am.shape)*8/1e9\n",
    "print(\"The full matrix would take up %d GB\" % full_size)"
   ]
  },
  {
   "cell_type": "markdown",
   "metadata": {},
   "source": [
    "That's a lot! How big is the sparse matrix?"
   ]
  },
  {
   "cell_type": "code",
   "execution_count": 40,
   "metadata": {},
   "outputs": [
    {
     "name": "stdout",
     "output_type": "stream",
     "text": [
      "The sparse matrix takes up 12 MB\n"
     ]
    }
   ],
   "source": [
    "sparse_size = (am.data.nbytes + am.indptr.nbytes + am.indices.nbytes)/1e6\n",
    "print(\"The sparse matrix takes up %d MB\" % sparse_size)"
   ]
  },
  {
   "cell_type": "markdown",
   "metadata": {},
   "source": [
    "So, the fraction of space saved is:"
   ]
  },
  {
   "cell_type": "code",
   "execution_count": 41,
   "metadata": {},
   "outputs": [
    {
     "name": "stdout",
     "output_type": "stream",
     "text": [
      "The sparse matrix is 10022x smaller\n"
     ]
    }
   ],
   "source": [
    "frac_nz = am.nnz / np.prod(am.shape)\n",
    "print(\"The sparse matrix is %dx smaller\" % (1/frac_nz))"
   ]
  },
  {
   "cell_type": "markdown",
   "metadata": {},
   "source": [
    "- Right, so we definitely don't want to store the full matrix.\n",
    "- Let's do some operations on the sparse matrix.\n"
   ]
  },
  {
   "cell_type": "markdown",
   "metadata": {},
   "source": [
    "## Break (5 min)"
   ]
  },
  {
   "cell_type": "code",
   "execution_count": null,
   "metadata": {},
   "outputs": [],
   "source": []
  },
  {
   "cell_type": "markdown",
   "metadata": {},
   "source": [
    "## Sparse matrices continued (15 min)"
   ]
  },
  {
   "cell_type": "markdown",
   "metadata": {},
   "source": [
    "- Quick preview of how this works:\n",
    "  - Store only the nonzero elements\n",
    "  - By row/column\n",
    "  - More general than adjacency list"
   ]
  },
  {
   "cell_type": "markdown",
   "metadata": {},
   "source": [
    "Get all neighbours of vertex $i$:"
   ]
  },
  {
   "cell_type": "code",
   "execution_count": 44,
   "metadata": {},
   "outputs": [
    {
     "name": "stdout",
     "output_type": "stream",
     "text": [
      "  (0, 1850)\t1\n",
      "  (0, 29456)\t1\n",
      "  (0, 41041)\t1\n",
      "  (0, 60835)\t1\n",
      "  (0, 67371)\t1\n",
      "  (0, 75979)\t1\n"
     ]
    }
   ],
   "source": [
    "i = 0\n",
    "print(am[i])"
   ]
  },
  {
   "cell_type": "code",
   "execution_count": null,
   "metadata": {},
   "outputs": [],
   "source": []
  },
  {
   "cell_type": "markdown",
   "metadata": {},
   "source": [
    "#### Notational nuisances\n",
    "\n",
    "- There are some weird things to know about scipy sparse matrices.\n",
    "- For example, with a regular numpy array, `x[i,j]` and `x[i][j]` are equivalent:"
   ]
  },
  {
   "cell_type": "code",
   "execution_count": 52,
   "metadata": {},
   "outputs": [],
   "source": [
    "x = np.random.rand(10, 10)"
   ]
  },
  {
   "cell_type": "code",
   "execution_count": 53,
   "metadata": {},
   "outputs": [
    {
     "data": {
      "text/plain": [
       "0.9609686901572979"
      ]
     },
     "execution_count": 53,
     "metadata": {},
     "output_type": "execute_result"
    }
   ],
   "source": [
    "x[1, 2]"
   ]
  },
  {
   "cell_type": "code",
   "execution_count": 54,
   "metadata": {},
   "outputs": [
    {
     "data": {
      "text/plain": [
       "0.9609686901572979"
      ]
     },
     "execution_count": 54,
     "metadata": {},
     "output_type": "execute_result"
    }
   ],
   "source": [
    "x[1][2]"
   ]
  },
  {
   "cell_type": "code",
   "execution_count": 55,
   "metadata": {},
   "outputs": [
    {
     "data": {
      "text/plain": [
       "0.9609686901572979"
      ]
     },
     "execution_count": 55,
     "metadata": {},
     "output_type": "execute_result"
    }
   ],
   "source": [
    "(x[1])[2]"
   ]
  },
  {
   "cell_type": "markdown",
   "metadata": {},
   "source": [
    "This is because `x[1]` returns the first row, and then the `[2]` indexes into that row:"
   ]
  },
  {
   "cell_type": "code",
   "execution_count": 56,
   "metadata": {},
   "outputs": [
    {
     "data": {
      "text/plain": [
       "array([0.64016072, 0.17280716, 0.96096869, 0.25550264, 0.24210781,\n",
       "       0.22931947, 0.05188452, 0.23190672, 0.20376221, 0.31420408])"
      ]
     },
     "execution_count": 56,
     "metadata": {},
     "output_type": "execute_result"
    }
   ],
   "source": [
    "x[1]"
   ]
  },
  {
   "cell_type": "code",
   "execution_count": 57,
   "metadata": {},
   "outputs": [
    {
     "data": {
      "text/plain": [
       "0.9609686901572979"
      ]
     },
     "execution_count": 57,
     "metadata": {},
     "output_type": "execute_result"
    }
   ],
   "source": [
    "row_1 = x[1]\n",
    "row_1[2]"
   ]
  },
  {
   "cell_type": "markdown",
   "metadata": {},
   "source": [
    "However, with `scipy.sparse` matrices, things are a bit different:"
   ]
  },
  {
   "cell_type": "code",
   "execution_count": 58,
   "metadata": {},
   "outputs": [],
   "source": [
    "x_sparse = scipy.sparse.csr_matrix(x)"
   ]
  },
  {
   "cell_type": "code",
   "execution_count": 59,
   "metadata": {},
   "outputs": [
    {
     "data": {
      "text/plain": [
       "0.9609686901572979"
      ]
     },
     "execution_count": 59,
     "metadata": {},
     "output_type": "execute_result"
    }
   ],
   "source": [
    "x_sparse[1, 2]"
   ]
  },
  {
   "cell_type": "code",
   "execution_count": 60,
   "metadata": {},
   "outputs": [
    {
     "ename": "IndexError",
     "evalue": "row index (2) out of range",
     "output_type": "error",
     "traceback": [
      "\u001b[0;31m---------------------------------------------------------------------------\u001b[0m",
      "\u001b[0;31mIndexError\u001b[0m                                Traceback (most recent call last)",
      "\u001b[0;32m/var/folders/sl/_n6p71ds1vb5tr2zmd73gnpr0000gp/T/ipykernel_34981/1039200917.py\u001b[0m in \u001b[0;36m<module>\u001b[0;34m\u001b[0m\n\u001b[0;32m----> 1\u001b[0;31m \u001b[0mx_sparse\u001b[0m\u001b[0;34m[\u001b[0m\u001b[0;36m1\u001b[0m\u001b[0;34m]\u001b[0m\u001b[0;34m[\u001b[0m\u001b[0;36m2\u001b[0m\u001b[0;34m]\u001b[0m\u001b[0;34m\u001b[0m\u001b[0;34m\u001b[0m\u001b[0m\n\u001b[0m",
      "\u001b[0;32m~/opt/miniconda3/envs/dsci512env/lib/python3.9/site-packages/scipy/sparse/_index.py\u001b[0m in \u001b[0;36m__getitem__\u001b[0;34m(self, key)\u001b[0m\n\u001b[1;32m     31\u001b[0m     \"\"\"\n\u001b[1;32m     32\u001b[0m     \u001b[0;32mdef\u001b[0m \u001b[0m__getitem__\u001b[0m\u001b[0;34m(\u001b[0m\u001b[0mself\u001b[0m\u001b[0;34m,\u001b[0m \u001b[0mkey\u001b[0m\u001b[0;34m)\u001b[0m\u001b[0;34m:\u001b[0m\u001b[0;34m\u001b[0m\u001b[0;34m\u001b[0m\u001b[0m\n\u001b[0;32m---> 33\u001b[0;31m         \u001b[0mrow\u001b[0m\u001b[0;34m,\u001b[0m \u001b[0mcol\u001b[0m \u001b[0;34m=\u001b[0m \u001b[0mself\u001b[0m\u001b[0;34m.\u001b[0m\u001b[0m_validate_indices\u001b[0m\u001b[0;34m(\u001b[0m\u001b[0mkey\u001b[0m\u001b[0;34m)\u001b[0m\u001b[0;34m\u001b[0m\u001b[0;34m\u001b[0m\u001b[0m\n\u001b[0m\u001b[1;32m     34\u001b[0m         \u001b[0;31m# Dispatch to specialized methods.\u001b[0m\u001b[0;34m\u001b[0m\u001b[0;34m\u001b[0m\u001b[0m\n\u001b[1;32m     35\u001b[0m         \u001b[0;32mif\u001b[0m \u001b[0misinstance\u001b[0m\u001b[0;34m(\u001b[0m\u001b[0mrow\u001b[0m\u001b[0;34m,\u001b[0m \u001b[0mINT_TYPES\u001b[0m\u001b[0;34m)\u001b[0m\u001b[0;34m:\u001b[0m\u001b[0;34m\u001b[0m\u001b[0;34m\u001b[0m\u001b[0m\n",
      "\u001b[0;32m~/opt/miniconda3/envs/dsci512env/lib/python3.9/site-packages/scipy/sparse/_index.py\u001b[0m in \u001b[0;36m_validate_indices\u001b[0;34m(self, key)\u001b[0m\n\u001b[1;32m    132\u001b[0m             \u001b[0mrow\u001b[0m \u001b[0;34m=\u001b[0m \u001b[0mint\u001b[0m\u001b[0;34m(\u001b[0m\u001b[0mrow\u001b[0m\u001b[0;34m)\u001b[0m\u001b[0;34m\u001b[0m\u001b[0;34m\u001b[0m\u001b[0m\n\u001b[1;32m    133\u001b[0m             \u001b[0;32mif\u001b[0m \u001b[0mrow\u001b[0m \u001b[0;34m<\u001b[0m \u001b[0;34m-\u001b[0m\u001b[0mM\u001b[0m \u001b[0;32mor\u001b[0m \u001b[0mrow\u001b[0m \u001b[0;34m>=\u001b[0m \u001b[0mM\u001b[0m\u001b[0;34m:\u001b[0m\u001b[0;34m\u001b[0m\u001b[0;34m\u001b[0m\u001b[0m\n\u001b[0;32m--> 134\u001b[0;31m                 \u001b[0;32mraise\u001b[0m \u001b[0mIndexError\u001b[0m\u001b[0;34m(\u001b[0m\u001b[0;34m'row index (%d) out of range'\u001b[0m \u001b[0;34m%\u001b[0m \u001b[0mrow\u001b[0m\u001b[0;34m)\u001b[0m\u001b[0;34m\u001b[0m\u001b[0;34m\u001b[0m\u001b[0m\n\u001b[0m\u001b[1;32m    135\u001b[0m             \u001b[0;32mif\u001b[0m \u001b[0mrow\u001b[0m \u001b[0;34m<\u001b[0m \u001b[0;36m0\u001b[0m\u001b[0;34m:\u001b[0m\u001b[0;34m\u001b[0m\u001b[0;34m\u001b[0m\u001b[0m\n\u001b[1;32m    136\u001b[0m                 \u001b[0mrow\u001b[0m \u001b[0;34m+=\u001b[0m \u001b[0mM\u001b[0m\u001b[0;34m\u001b[0m\u001b[0;34m\u001b[0m\u001b[0m\n",
      "\u001b[0;31mIndexError\u001b[0m: row index (2) out of range"
     ]
    }
   ],
   "source": [
    "x_sparse[1][2]"
   ]
  },
  {
   "cell_type": "markdown",
   "metadata": {},
   "source": [
    "Why?"
   ]
  },
  {
   "cell_type": "code",
   "execution_count": 61,
   "metadata": {},
   "outputs": [],
   "source": [
    "row_1_sparse = x_sparse[1]"
   ]
  },
  {
   "cell_type": "code",
   "execution_count": 62,
   "metadata": {},
   "outputs": [
    {
     "data": {
      "text/plain": [
       "(1, 10)"
      ]
     },
     "execution_count": 62,
     "metadata": {},
     "output_type": "execute_result"
    }
   ],
   "source": [
    "row_1_sparse.shape"
   ]
  },
  {
   "cell_type": "code",
   "execution_count": 65,
   "metadata": {},
   "outputs": [],
   "source": [
    "# print(row_1_sparse)"
   ]
  },
  {
   "cell_type": "markdown",
   "metadata": {},
   "source": [
    "- The sparse matrix returns a different shape, leaving in the first dimension.\n",
    "- This can be annoying and is something to watch out for.\n",
    "- In general, I suggest using the `x[1,2]` notation when possible because chaining the `[]` can be problematic in several places (e.g., also pandas).\n",
    "- However, this is only for numpy, not, say, a list of lists:"
   ]
  },
  {
   "cell_type": "code",
   "execution_count": 66,
   "metadata": {},
   "outputs": [
    {
     "data": {
      "text/plain": [
       "[[1, 2, 3], [4, 5, 6], [7, 9]]"
      ]
     },
     "execution_count": 66,
     "metadata": {},
     "output_type": "execute_result"
    }
   ],
   "source": [
    "lst = [[1, 2, 3], [4, 5, 6], [7, 9]]\n",
    "lst"
   ]
  },
  {
   "cell_type": "code",
   "execution_count": 67,
   "metadata": {},
   "outputs": [
    {
     "data": {
      "text/plain": [
       "2"
      ]
     },
     "execution_count": 67,
     "metadata": {},
     "output_type": "execute_result"
    }
   ],
   "source": [
    "lst[0][1]"
   ]
  },
  {
   "cell_type": "code",
   "execution_count": 68,
   "metadata": {},
   "outputs": [
    {
     "ename": "TypeError",
     "evalue": "list indices must be integers or slices, not tuple",
     "output_type": "error",
     "traceback": [
      "\u001b[0;31m---------------------------------------------------------------------------\u001b[0m",
      "\u001b[0;31mTypeError\u001b[0m                                 Traceback (most recent call last)",
      "\u001b[0;32m/var/folders/sl/_n6p71ds1vb5tr2zmd73gnpr0000gp/T/ipykernel_34981/4032406836.py\u001b[0m in \u001b[0;36m<module>\u001b[0;34m\u001b[0m\n\u001b[0;32m----> 1\u001b[0;31m \u001b[0mlst\u001b[0m\u001b[0;34m[\u001b[0m\u001b[0;36m0\u001b[0m\u001b[0;34m,\u001b[0m \u001b[0;36m1\u001b[0m\u001b[0;34m]\u001b[0m\u001b[0;34m\u001b[0m\u001b[0;34m\u001b[0m\u001b[0m\n\u001b[0m",
      "\u001b[0;31mTypeError\u001b[0m: list indices must be integers or slices, not tuple"
     ]
    }
   ],
   "source": [
    "lst[0, 1]"
   ]
  },
  {
   "cell_type": "markdown",
   "metadata": {},
   "source": [
    "#### Sparse matrix operations"
   ]
  },
  {
   "cell_type": "markdown",
   "metadata": {},
   "source": [
    "- Let's try to find the vertex with the most neighbours.\n",
    "- First, some numpy syntax:"
   ]
  },
  {
   "cell_type": "code",
   "execution_count": 69,
   "metadata": {},
   "outputs": [
    {
     "data": {
      "text/plain": [
       "array([[4, 0, 1, 3, 4],\n",
       "       [7, 1, 0, 3, 0],\n",
       "       [8, 4, 2, 6, 6],\n",
       "       [8, 0, 7, 1, 0]])"
      ]
     },
     "execution_count": 69,
     "metadata": {},
     "output_type": "execute_result"
    }
   ],
   "source": [
    "x = np.random.randint(10, size=(4,5))\n",
    "x"
   ]
  },
  {
   "cell_type": "code",
   "execution_count": 70,
   "metadata": {},
   "outputs": [
    {
     "data": {
      "text/plain": [
       "65"
      ]
     },
     "execution_count": 70,
     "metadata": {},
     "output_type": "execute_result"
    }
   ],
   "source": [
    "np.sum(x)"
   ]
  },
  {
   "cell_type": "code",
   "execution_count": 74,
   "metadata": {},
   "outputs": [
    {
     "data": {
      "text/plain": [
       "65"
      ]
     },
     "execution_count": 74,
     "metadata": {},
     "output_type": "execute_result"
    }
   ],
   "source": [
    "x.sum() # <- do it this way for sparse matrices (for numpy either is fine)"
   ]
  },
  {
   "cell_type": "code",
   "execution_count": 71,
   "metadata": {},
   "outputs": [
    {
     "data": {
      "text/plain": [
       "array([27,  5, 10, 13, 10])"
      ]
     },
     "execution_count": 71,
     "metadata": {},
     "output_type": "execute_result"
    }
   ],
   "source": [
    "np.sum(x, axis=0)"
   ]
  },
  {
   "cell_type": "code",
   "execution_count": 72,
   "metadata": {},
   "outputs": [
    {
     "data": {
      "text/plain": [
       "array([12, 11, 26, 16])"
      ]
     },
     "execution_count": 72,
     "metadata": {},
     "output_type": "execute_result"
    }
   ],
   "source": [
    "np.sum(x, axis=1)"
   ]
  },
  {
   "cell_type": "markdown",
   "metadata": {},
   "source": [
    "Back to the adjacency matrix, this operation counts the nonzeros for each row of the matrix:"
   ]
  },
  {
   "cell_type": "code",
   "execution_count": 75,
   "metadata": {},
   "outputs": [
    {
     "data": {
      "text/plain": [
       "array([ 6,  8,  8, ..., 13, 12, 13], dtype=int32)"
      ]
     },
     "execution_count": 75,
     "metadata": {},
     "output_type": "execute_result"
    }
   ],
   "source": [
    "am.getnnz(axis=1)"
   ]
  },
  {
   "cell_type": "code",
   "execution_count": 76,
   "metadata": {},
   "outputs": [
    {
     "name": "stdout",
     "output_type": "stream",
     "text": [
      "Vertex 1294 has 25 neighbours\n"
     ]
    }
   ],
   "source": [
    "ind = np.argmax(am.getnnz(axis=1))\n",
    "val = np.max(am.getnnz(axis=1))\n",
    "\n",
    "print(\"Vertex\", ind, \"has\", val, \"neighbours\")"
   ]
  },
  {
   "cell_type": "code",
   "execution_count": null,
   "metadata": {},
   "outputs": [],
   "source": []
  },
  {
   "cell_type": "markdown",
   "metadata": {},
   "source": [
    "#### sparse data sets\n",
    "\n",
    "Sparse matrices come up _a lot_ in practice, beyond just adjacency matrices in graphs. For example:\n",
    "\n",
    "- Word counts: we might represent a document by which words are in it, but only a small fraction of all words would appear in a given document.\n",
    "- Ratings: we might represent an Amazon item by the user ratings, but only a small fraction of all users have rated a given item.\n",
    "- Physical processes: in a 2019 Capstone project, students examined images from a particle physics dataset, in which most of the sensors got zero signal.\n",
    "- etc."
   ]
  },
  {
   "cell_type": "markdown",
   "metadata": {},
   "source": [
    "#### (optional) nearest neighbours with sparse matrices\n",
    "\n",
    "- In Lecture 4 we discussed nearest neighbour algorithms.\n",
    "- We need to think carefully about the idea of _distance_ when dealing with sparse vectors.\n",
    "  - Euclidean distance doesn't necessarily make sense.\n",
    "  - It may depend if we have sparse vectors of sparse _binary_ vectors (like in the adjacency matrix).\n",
    "  - Both are common in practice.\n",
    "  - For sparse binary vectors, the distance could just be the number of places they differ.\n",
    "  - E.g. dist$((0,0,1), (0,1,1))=1$ because they differ in one place (the second entry).\n",
    "- Different nearest neighbour algorithms might need to be used for sparse vectors.\n",
    "- E.g. $k$-d trees don't really make sense because \"dividing the space in half\" doesn't really do anything interesting; they are already divided."
   ]
  },
  {
   "cell_type": "code",
   "execution_count": null,
   "metadata": {},
   "outputs": [],
   "source": []
  },
  {
   "cell_type": "markdown",
   "metadata": {},
   "source": [
    "## Spare matrix timing (15 min)"
   ]
  },
  {
   "cell_type": "markdown",
   "metadata": {},
   "source": [
    "- The amount of time things take with sparse matrices can be quite surprising. \n",
    "- First off, let's look at regular numpy arrays."
   ]
  },
  {
   "cell_type": "code",
   "execution_count": 77,
   "metadata": {},
   "outputs": [],
   "source": [
    "numpy_array = np.random.rand(5000, 5000)"
   ]
  },
  {
   "cell_type": "markdown",
   "metadata": {},
   "source": [
    "- Numpy arrays are actually stored row-by-row, so summing a row is faster that summing a column:"
   ]
  },
  {
   "cell_type": "code",
   "execution_count": 78,
   "metadata": {},
   "outputs": [
    {
     "name": "stdout",
     "output_type": "stream",
     "text": [
      "4 µs ± 134 ns per loop (mean ± std. dev. of 7 runs, 100000 loops each)\n"
     ]
    }
   ],
   "source": [
    "%timeit numpy_array[0,:].sum() # sum the first row"
   ]
  },
  {
   "cell_type": "code",
   "execution_count": 79,
   "metadata": {},
   "outputs": [
    {
     "name": "stdout",
     "output_type": "stream",
     "text": [
      "37.4 µs ± 140 ns per loop (mean ± std. dev. of 7 runs, 10000 loops each)\n"
     ]
    }
   ],
   "source": [
    "%timeit numpy_array[:,0].sum() # sum the first column"
   ]
  },
  {
   "cell_type": "markdown",
   "metadata": {},
   "source": [
    "Overall, both of these are _much_ faster than summing the whole thing (which makes sense!):"
   ]
  },
  {
   "cell_type": "code",
   "execution_count": 80,
   "metadata": {},
   "outputs": [
    {
     "name": "stdout",
     "output_type": "stream",
     "text": [
      "12.5 ms ± 243 µs per loop (mean ± std. dev. of 7 runs, 100 loops each)\n"
     ]
    }
   ],
   "source": [
    "%timeit numpy_array.sum()"
   ]
  },
  {
   "cell_type": "markdown",
   "metadata": {},
   "source": [
    "Per row or per column, summing the whole thing takes:"
   ]
  },
  {
   "cell_type": "code",
   "execution_count": 81,
   "metadata": {},
   "outputs": [
    {
     "data": {
      "text/plain": [
       "2.5"
      ]
     },
     "execution_count": 81,
     "metadata": {},
     "output_type": "execute_result"
    }
   ],
   "source": [
    "12_500/5000"
   ]
  },
  {
   "cell_type": "markdown",
   "metadata": {},
   "source": [
    "which is just slightly faster than summing a row. It makes sense that a bigger, vectorized operation has some savings."
   ]
  },
  {
   "cell_type": "markdown",
   "metadata": {},
   "source": [
    "Now let's look at sparse matrices:"
   ]
  },
  {
   "cell_type": "code",
   "execution_count": 86,
   "metadata": {},
   "outputs": [],
   "source": [
    "G = nx.fast_gnp_random_graph(10_000, 0.25e-2)\n",
    "sparse_matrix = nx.adjacency_matrix(G)"
   ]
  },
  {
   "cell_type": "code",
   "execution_count": 87,
   "metadata": {},
   "outputs": [
    {
     "data": {
      "text/plain": [
       "10000"
      ]
     },
     "execution_count": 87,
     "metadata": {},
     "output_type": "execute_result"
    }
   ],
   "source": [
    "len(G.nodes)"
   ]
  },
  {
   "cell_type": "code",
   "execution_count": 88,
   "metadata": {},
   "outputs": [
    {
     "data": {
      "text/plain": [
       "125066"
      ]
     },
     "execution_count": 88,
     "metadata": {},
     "output_type": "execute_result"
    }
   ],
   "source": [
    "len(G.edges)"
   ]
  },
  {
   "cell_type": "code",
   "execution_count": 89,
   "metadata": {},
   "outputs": [
    {
     "data": {
      "text/plain": [
       "networkx.classes.graph.Graph"
      ]
     },
     "execution_count": 89,
     "metadata": {},
     "output_type": "execute_result"
    }
   ],
   "source": [
    "type(G)"
   ]
  },
  {
   "cell_type": "code",
   "execution_count": 83,
   "metadata": {},
   "outputs": [
    {
     "name": "stdout",
     "output_type": "stream",
     "text": [
      "116 µs ± 2.23 µs per loop (mean ± std. dev. of 7 runs, 10000 loops each)\n"
     ]
    }
   ],
   "source": [
    "%timeit sparse_matrix[0,:].sum()"
   ]
  },
  {
   "cell_type": "code",
   "execution_count": 84,
   "metadata": {},
   "outputs": [
    {
     "name": "stdout",
     "output_type": "stream",
     "text": [
      "638 µs ± 6.8 µs per loop (mean ± std. dev. of 7 runs, 1000 loops each)\n"
     ]
    }
   ],
   "source": [
    "%timeit sparse_matrix[:,0].sum()"
   ]
  },
  {
   "cell_type": "code",
   "execution_count": 85,
   "metadata": {},
   "outputs": [
    {
     "name": "stdout",
     "output_type": "stream",
     "text": [
      "323 µs ± 5.26 µs per loop (mean ± std. dev. of 7 runs, 1000 loops each)\n"
     ]
    }
   ],
   "source": [
    "%timeit sparse_matrix.sum()"
   ]
  },
  {
   "cell_type": "markdown",
   "metadata": {},
   "source": [
    "I can't really understand these results TBH; apparently summing the first column is slower than summing the whole thing!"
   ]
  },
  {
   "cell_type": "markdown",
   "metadata": {},
   "source": [
    "- Notice also how summing the first row is faster than summing the first column.\n",
    "- This has to do with the type of sparse matrix:"
   ]
  },
  {
   "cell_type": "markdown",
   "metadata": {},
   "source": [
    "#### (optional) Sparse matrix format, the gory details"
   ]
  },
  {
   "cell_type": "code",
   "execution_count": 90,
   "metadata": {},
   "outputs": [
    {
     "data": {
      "text/plain": [
       "scipy.sparse.csr.csr_matrix"
      ]
     },
     "execution_count": 90,
     "metadata": {},
     "output_type": "execute_result"
    }
   ],
   "source": [
    "type(sparse_matrix)"
   ]
  },
  {
   "cell_type": "markdown",
   "metadata": {},
   "source": [
    "- This is \"Compressed Sparse Row\" format.\n",
    "- It means we store an adjacency list _per row_. \n",
    "- So if we want Row 4, we just grab it right away.\n",
    "- But if we want column 4, we have to iterate through every row and check if there's a 4!"
   ]
  },
  {
   "cell_type": "code",
   "execution_count": 93,
   "metadata": {},
   "outputs": [
    {
     "name": "stdout",
     "output_type": "stream",
     "text": [
      "[[0.86182738 0.         0.         0.         0.        ]\n",
      " [0.         0.         0.         0.36493942 0.        ]\n",
      " [0.         0.         0.52952801 0.         0.        ]\n",
      " [0.         0.         0.         0.         0.        ]\n",
      " [0.84758728 0.         0.98840654 0.         0.        ]]\n"
     ]
    }
   ],
   "source": [
    "x = scipy.sparse.random(5, 5, density=0.2, format=\"csr\", random_state=321)\n",
    "\n",
    "print(x.toarray())"
   ]
  },
  {
   "cell_type": "code",
   "execution_count": 94,
   "metadata": {},
   "outputs": [
    {
     "name": "stdout",
     "output_type": "stream",
     "text": [
      "  (0, 0)\t0.8618273768819481\n",
      "  (1, 3)\t0.3649394158657733\n",
      "  (2, 2)\t0.529528005602308\n",
      "  (4, 0)\t0.8475872823428623\n",
      "  (4, 2)\t0.9884065398125097\n"
     ]
    }
   ],
   "source": [
    "print(x)"
   ]
  },
  {
   "cell_type": "markdown",
   "metadata": {},
   "source": [
    "Here's how it is actually stored:"
   ]
  },
  {
   "cell_type": "code",
   "execution_count": 95,
   "metadata": {},
   "outputs": [
    {
     "data": {
      "text/plain": [
       "array([0.86182738, 0.36493942, 0.52952801, 0.84758728, 0.98840654])"
      ]
     },
     "execution_count": 95,
     "metadata": {},
     "output_type": "execute_result"
    }
   ],
   "source": [
    "x.data"
   ]
  },
  {
   "cell_type": "code",
   "execution_count": 96,
   "metadata": {},
   "outputs": [
    {
     "data": {
      "text/plain": [
       "array([0, 3, 2, 0, 2], dtype=int32)"
      ]
     },
     "execution_count": 96,
     "metadata": {},
     "output_type": "execute_result"
    }
   ],
   "source": [
    "x.indices # column indices"
   ]
  },
  {
   "cell_type": "code",
   "execution_count": 97,
   "metadata": {},
   "outputs": [
    {
     "data": {
      "text/plain": [
       "array([0, 1, 2, 3, 3, 5], dtype=int32)"
      ]
     },
     "execution_count": 97,
     "metadata": {},
     "output_type": "execute_result"
    }
   ],
   "source": [
    "x.indptr "
   ]
  },
  {
   "cell_type": "markdown",
   "metadata": {},
   "source": [
    "Above: \n",
    "\n",
    "- Row 0 starts at `x.indices[0]`\n",
    "- Row 1 starts at `x.indices[1]`\n",
    "- Row 2 starts at `x.indices[2]`\n",
    "- Row 3 starts at `x.indices[3]`\n",
    "- Row 4 also starts at `x.indices[3]`, because row 3 is empty\n",
    "- Row 5 starts at `x.indices[5]`"
   ]
  },
  {
   "cell_type": "code",
   "execution_count": null,
   "metadata": {},
   "outputs": [],
   "source": []
  },
  {
   "cell_type": "markdown",
   "metadata": {},
   "source": [
    "We can actually convert between sparse matrix types."
   ]
  },
  {
   "cell_type": "code",
   "execution_count": 98,
   "metadata": {},
   "outputs": [],
   "source": [
    "sparse_csc = sparse_matrix.tocsc()"
   ]
  },
  {
   "cell_type": "code",
   "execution_count": 99,
   "metadata": {},
   "outputs": [
    {
     "name": "stdout",
     "output_type": "stream",
     "text": [
      "651 µs ± 12.1 µs per loop (mean ± std. dev. of 7 runs, 1000 loops each)\n"
     ]
    }
   ],
   "source": [
    "%timeit sparse_csc[0,:].sum() # used to be faster"
   ]
  },
  {
   "cell_type": "code",
   "execution_count": 100,
   "metadata": {},
   "outputs": [
    {
     "name": "stdout",
     "output_type": "stream",
     "text": [
      "122 µs ± 2.38 µs per loop (mean ± std. dev. of 7 runs, 10000 loops each)\n"
     ]
    }
   ],
   "source": [
    "%timeit sparse_csc[:,0].sum() # used to be slower"
   ]
  },
  {
   "cell_type": "markdown",
   "metadata": {},
   "source": [
    "Other notes on using sparse matrices: \n",
    "\n",
    "- Use vectorized built-in scipy operations as much as possible.\n",
    "- Avoid loops.\n",
    "- For extra optimizations, keep in mind what type of sparse matrix you have."
   ]
  },
  {
   "cell_type": "code",
   "execution_count": null,
   "metadata": {},
   "outputs": [],
   "source": []
  },
  {
   "cell_type": "markdown",
   "metadata": {},
   "source": [
    "Notes to self:\n",
    "\n",
    "- `sparse_matrix.sum(axis=0)` probably does something clever since it knows it's doing all columns. It's not doing anything nearly as bad as going one column at a time.\n",
    "- numpy arrays actually exhibit similar behaviour - it's actually 10x slower to sum the first column than the first row of a $5000 \\times 5000$ numpy array, which surprised me a bit."
   ]
  },
  {
   "cell_type": "code",
   "execution_count": null,
   "metadata": {},
   "outputs": [],
   "source": []
  }
 ],
 "metadata": {
  "kernelspec": {
   "display_name": "Python [conda env:dsci512env]",
   "language": "python",
   "name": "conda-env-dsci512env-py"
  },
  "language_info": {
   "codemirror_mode": {
    "name": "ipython",
    "version": 3
   },
   "file_extension": ".py",
   "mimetype": "text/x-python",
   "name": "python",
   "nbconvert_exporter": "python",
   "pygments_lexer": "ipython3",
   "version": "3.9.7"
  }
 },
 "nbformat": 4,
 "nbformat_minor": 4
}
