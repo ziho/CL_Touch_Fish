{
 "cells": [
  {
   "cell_type": "markdown",
   "metadata": {},
   "source": [
    "# DSCI 512 Lecture 3\n",
    "\n",
    "Outline:\n",
    "\n",
    "- Recursion intro: random tree graphics (5 min)\n",
    "- Recursion intro: the details (35 min)\n",
    "- Break (5 min)\n",
    "- Binary search, revisited (5 min)\n",
    "- Multiple recursive calls (20 min)\n",
    "- Activities (time permitting)\n"
   ]
  },
  {
   "cell_type": "markdown",
   "metadata": {},
   "source": [
    "## Learning objectives\n",
    "\n",
    "* Explain what recursion is, and why both the base case(s) and recursive step(s) are essential.\n",
    "* Recognize problems for which a recursive solution is appropriate.\n",
    "* Write a recursive solution for a simple problem.\n",
    "* Compare and contrast recursion and iteration."
   ]
  },
  {
   "cell_type": "markdown",
   "metadata": {},
   "source": [
    "## Announcements\n",
    "\n",
    "- We'll keep this format for the rest of the course.\n",
    "- Lab 2 posted\n",
    "- Classroom expectations: https://github.ubc.ca/mds-2021-22/DSCI_512_alg-data-struct_students/issues/2\n",
    "- In-person quizzes: https://ubc-mds.slack.com/archives/C8UNJ45DL/p1634580031044800\n",
    "- Seeking volunteer to monitor Slack for Q's"
   ]
  },
  {
   "cell_type": "code",
   "execution_count": 1,
   "metadata": {},
   "outputs": [],
   "source": [
    "import numpy as np\n",
    "import matplotlib.pyplot as plt"
   ]
  },
  {
   "cell_type": "markdown",
   "metadata": {},
   "source": [
    "## Recursion intro: random tree graphics (5 min)"
   ]
  },
  {
   "cell_type": "markdown",
   "metadata": {},
   "source": [
    "Below: credit for the idea goes to [Paul Goldenberg](https://www.edc.org/staff/e-paul-goldenberg); thank you to [Dan Garcia](https://people.eecs.berkeley.edu/~ddgarcia/) for introducing me to it."
   ]
  },
  {
   "cell_type": "code",
   "execution_count": 2,
   "metadata": {
    "jupyter": {
     "source_hidden": true
    }
   },
   "outputs": [],
   "source": [
    "def move_pen(x, y, angle, length):\n",
    "    \"\"\"\n",
    "    Moves a point from initial location of x and y according to\n",
    "    angle and length specified.\n",
    "\n",
    "    Parameters\n",
    "    ----------\n",
    "    x : float\n",
    "        initial location of pen on the x axis\n",
    "    y : float\n",
    "        initial location of pen on the y axis\n",
    "    angle : float\n",
    "        direction from initial location (0 means up)\n",
    "    length: distance from the initial location desired to move\n",
    "\n",
    "    Returns\n",
    "    -------\n",
    "    new_x : float\n",
    "        new location on the x axis \n",
    "    new_y : float\n",
    "        new location on the y axis \n",
    "\n",
    "    Examples\n",
    "    --------\n",
    "    >>> move_pen(0, 0, 90,2)\n",
    "    (2.0, 0)\n",
    "    >>> move_pen(0, 0, 180,2)\n",
    "    (0, -2.0)\n",
    "\n",
    "    \"\"\"\n",
    "    new_x = x + length * np.sin(angle * np.pi / 180.0)\n",
    "    new_y = y + length * np.cos(angle * np.pi / 180.0)\n",
    "    return new_x, new_y\n",
    "\n",
    "def branch(x, y, angle=0, length=1, marker=\".\"):\n",
    "    \"\"\"\n",
    "    Plot a shape at the end of a tree branch.\n",
    "\n",
    "    Parameters\n",
    "    ----------\n",
    "    x : float\n",
    "        initial location on the x axis\n",
    "    y : float\n",
    "        initial location on the y axis\n",
    "    angle : float, optional (default = 0)\n",
    "        not used, needed to conform to the same interface as vee\n",
    "    length: float, optional (default = 1)\n",
    "        not used, needed to conform to the same interface as vee\n",
    "    marker : str, optional (default = \".\")\n",
    "        the shape at the end of the branch\n",
    "    \"\"\"\n",
    "    plt.plot(x, y, marker=marker, markersize=\"15\",\n",
    "             markerfacecolor=\"None\", markeredgecolor=\"k\")\n",
    "\n",
    "def square(*args):\n",
    "    return branch(*args, marker=\"s\")\n",
    "\n",
    "def hexagon(*args):\n",
    "    return branch(*args, marker=\"h\")\n",
    "\n",
    "def star(*args, length=1):\n",
    "    return branch(*args, marker=\"*\")\n",
    "\n",
    "def vee(x=0, y=0, angle=0, length=1):\n",
    "    \"\"\"\n",
    "    Plots a tree with random shaped nodes given\n",
    "    a trunk location, branch angle and branch length.\n",
    "\n",
    "    Parameters\n",
    "    ----------\n",
    "    x : float, optional (default = 0)\n",
    "        location of pen on the x axis\n",
    "    y : float, optional (default = 5)\n",
    "        location of pen on the y axis\n",
    "    angle : float, optional (default = 0)\n",
    "        direction from location desired to move in degrees \n",
    "    length: float,  (default = 1)\n",
    "        distance from the location desired to move\n",
    "    \"\"\"\n",
    "#     plt.figure(figsize=(4,3))\n",
    "    \n",
    "    # possible shapes\n",
    "    shapes = [square, hexagon, star, vee, vee]\n",
    "\n",
    "    # branch left\n",
    "    shape = np.random.choice(shapes)\n",
    "    new_angle = angle - 20/np.pi\n",
    "    new_x, new_y = move_pen(x, y, new_angle, length)\n",
    "    plt.plot([x, new_x], [y, new_y], 'k')\n",
    "    shape(new_x, new_y, new_angle, length)\n",
    "\n",
    "    # branch right\n",
    "    shape = np.random.choice(shapes)\n",
    "    new_angle = angle + 20/np.pi\n",
    "    new_x, new_y = move_pen(x, y, new_angle, length)\n",
    "    plt.plot([x, new_x], [y, new_y], 'k')\n",
    "    shape(new_x, new_y, new_angle, length)\n",
    "\n",
    "    plt.xticks(())\n",
    "    plt.yticks(())\n",
    "    plt.xlim((-2, 2))\n",
    "    plt.ylim((0, 10))\n",
    "#     plt.draw()\n",
    "#     plt.pause(0.05)\n",
    "\n",
    "np.random.seed(21)"
   ]
  },
  {
   "cell_type": "code",
   "execution_count": 23,
   "metadata": {},
   "outputs": [
    {
     "data": {
      "image/png": "[encoded data removed]",
      "text/plain": [
       "<Figure size 432x288 with 1 Axes>"
      ]
     },
     "metadata": {},
     "output_type": "display_data"
    }
   ],
   "source": [
    "vee()"
   ]
  },
  {
   "cell_type": "markdown",
   "metadata": {},
   "source": [
    "## Recursion intro: the details (35 min)"
   ]
  },
  {
   "cell_type": "markdown",
   "metadata": {},
   "source": [
    "- We are going to take a _very_ step-by-step approach to recursion.\n",
    "- It might be boring in the middle, but it's going somewhere."
   ]
  },
  {
   "cell_type": "markdown",
   "metadata": {},
   "source": [
    "#### Step 1: functions with outputs but no inputs\n",
    "\n",
    "Consider this function:"
   ]
  },
  {
   "cell_type": "code",
   "execution_count": 24,
   "metadata": {},
   "outputs": [],
   "source": [
    "def h():\n",
    "    return 0"
   ]
  },
  {
   "cell_type": "markdown",
   "metadata": {},
   "source": [
    "We can call it:"
   ]
  },
  {
   "cell_type": "code",
   "execution_count": 25,
   "metadata": {},
   "outputs": [
    {
     "data": {
      "text/plain": [
       "0"
      ]
     },
     "execution_count": 25,
     "metadata": {},
     "output_type": "execute_result"
    }
   ],
   "source": [
    "h()"
   ]
  },
  {
   "cell_type": "markdown",
   "metadata": {},
   "source": [
    "Now let's add a function `g` that calls `h`:"
   ]
  },
  {
   "cell_type": "code",
   "execution_count": 26,
   "metadata": {},
   "outputs": [],
   "source": [
    "def g():\n",
    "    return h() + 1"
   ]
  },
  {
   "cell_type": "code",
   "execution_count": 27,
   "metadata": {},
   "outputs": [
    {
     "data": {
      "text/plain": [
       "1"
      ]
     },
     "execution_count": 27,
     "metadata": {},
     "output_type": "execute_result"
    }
   ],
   "source": [
    "g()"
   ]
  },
  {
   "cell_type": "markdown",
   "metadata": {},
   "source": [
    "- What's happening here? `g` is calling `h`, which returns $0$.\n",
    "- It then adds this result, $0$, to $1$ and gets $1$.\n",
    "- So it returns $1$."
   ]
  },
  {
   "cell_type": "markdown",
   "metadata": {},
   "source": [
    "Now let's add a function `f` that calls `g`:"
   ]
  },
  {
   "cell_type": "code",
   "execution_count": 28,
   "metadata": {},
   "outputs": [],
   "source": [
    "def f():\n",
    "    return g() + 1"
   ]
  },
  {
   "cell_type": "code",
   "execution_count": 29,
   "metadata": {},
   "outputs": [
    {
     "data": {
      "text/plain": [
       "2"
      ]
     },
     "execution_count": 29,
     "metadata": {},
     "output_type": "execute_result"
    }
   ],
   "source": [
    "f()"
   ]
  },
  {
   "cell_type": "markdown",
   "metadata": {},
   "source": [
    "- What's happening here? `f` is calling `g`.\n",
    "- We already know `g` returns $1$, so no need to go through that again in ours heads (but Python does).\n",
    "- So `f` adds $1+1$, and returns $2$.\n",
    "\n",
    "What's the idea here? That functions can call each other, and we can methodically \"unpack\" what happens when they call each other. And furthermore, if we already know what `g` does, we can forget about the fact that it calls `h`."
   ]
  },
  {
   "cell_type": "markdown",
   "metadata": {},
   "source": [
    "#### Step 2: functions with inputs but no outputs\n",
    "\n",
    "Now let's make it more interesting by letting the functions take arguments. Consider these functions:"
   ]
  },
  {
   "cell_type": "code",
   "execution_count": 30,
   "metadata": {},
   "outputs": [],
   "source": [
    "def h(n):\n",
    "    print(\"You called h with argument\", n)\n",
    "    print(\"Ending h with argument\", n)"
   ]
  },
  {
   "cell_type": "code",
   "execution_count": 31,
   "metadata": {},
   "outputs": [
    {
     "name": "stdout",
     "output_type": "stream",
     "text": [
      "You called h with argument 3\n",
      "Ending h with argument 3\n"
     ]
    }
   ],
   "source": [
    "h(3)"
   ]
  },
  {
   "cell_type": "code",
   "execution_count": 32,
   "metadata": {},
   "outputs": [
    {
     "name": "stdout",
     "output_type": "stream",
     "text": [
      "You called h with argument 2\n",
      "Ending h with argument 2\n"
     ]
    }
   ],
   "source": [
    "h(2)"
   ]
  },
  {
   "cell_type": "code",
   "execution_count": 33,
   "metadata": {},
   "outputs": [],
   "source": [
    "def g(n):\n",
    "    print(\"You called g with argument\", n)\n",
    "    h(n-1)  \n",
    "    print(\"Ending g with argument\", n)"
   ]
  },
  {
   "cell_type": "code",
   "execution_count": 34,
   "metadata": {},
   "outputs": [
    {
     "name": "stdout",
     "output_type": "stream",
     "text": [
      "You called g with argument 1\n",
      "You called h with argument 0\n",
      "Ending h with argument 0\n",
      "Ending g with argument 1\n"
     ]
    }
   ],
   "source": [
    "g(1)"
   ]
  },
  {
   "cell_type": "code",
   "execution_count": 35,
   "metadata": {},
   "outputs": [
    {
     "name": "stdout",
     "output_type": "stream",
     "text": [
      "You called g with argument 2\n",
      "You called h with argument 1\n",
      "Ending h with argument 1\n",
      "Ending g with argument 2\n"
     ]
    }
   ],
   "source": [
    "g(2)"
   ]
  },
  {
   "cell_type": "code",
   "execution_count": 36,
   "metadata": {},
   "outputs": [
    {
     "name": "stdout",
     "output_type": "stream",
     "text": [
      "You called g with argument 3\n",
      "You called h with argument 2\n",
      "Ending h with argument 2\n",
      "Ending g with argument 3\n"
     ]
    }
   ],
   "source": [
    "g(3)"
   ]
  },
  {
   "cell_type": "markdown",
   "metadata": {},
   "source": [
    "Ok, now let's add another function, `f`."
   ]
  },
  {
   "cell_type": "code",
   "execution_count": 37,
   "metadata": {},
   "outputs": [],
   "source": [
    "def f(n):\n",
    "    print(\"You called f with argument\", n)\n",
    "    g(n-1)  \n",
    "    print(\"Ending f with argument\", n)"
   ]
  },
  {
   "cell_type": "code",
   "execution_count": 38,
   "metadata": {},
   "outputs": [
    {
     "name": "stdout",
     "output_type": "stream",
     "text": [
      "You called f with argument 5\n",
      "You called g with argument 4\n",
      "You called h with argument 3\n",
      "Ending h with argument 3\n",
      "Ending g with argument 4\n",
      "Ending f with argument 5\n"
     ]
    }
   ],
   "source": [
    "f(5)"
   ]
  },
  {
   "cell_type": "code",
   "execution_count": 39,
   "metadata": {},
   "outputs": [
    {
     "name": "stdout",
     "output_type": "stream",
     "text": [
      "You called f with argument 10\n",
      "You called g with argument 9\n",
      "You called h with argument 8\n",
      "Ending h with argument 8\n",
      "Ending g with argument 9\n",
      "Ending f with argument 10\n"
     ]
    }
   ],
   "source": [
    "f(10)"
   ]
  },
  {
   "cell_type": "markdown",
   "metadata": {},
   "source": [
    "FYI (optional): what we're seeing above is a depiction of the functions' [call stack](https://en.wikipedia.org/wiki/Call_stack). "
   ]
  },
  {
   "cell_type": "markdown",
   "metadata": {},
   "source": [
    "#### Step 3: functions with inputs _and_ outputs\n",
    "\n",
    "Above, each function is passing data _into_ the next function.\n",
    "\n",
    "Below, we try passing data _out_ of each function as well."
   ]
  },
  {
   "cell_type": "code",
   "execution_count": 40,
   "metadata": {},
   "outputs": [],
   "source": [
    "def h(n):\n",
    "    print(\"Starting h with argument\", n)\n",
    "    value = 0\n",
    "    print(\"Ending h with value\", value)\n",
    "    return value"
   ]
  },
  {
   "cell_type": "code",
   "execution_count": 41,
   "metadata": {},
   "outputs": [
    {
     "name": "stdout",
     "output_type": "stream",
     "text": [
      "Starting h with argument 5\n",
      "Ending h with value 0\n"
     ]
    },
    {
     "data": {
      "text/plain": [
       "0"
      ]
     },
     "execution_count": 41,
     "metadata": {},
     "output_type": "execute_result"
    }
   ],
   "source": [
    "h(5)"
   ]
  },
  {
   "cell_type": "markdown",
   "metadata": {},
   "source": [
    "`h` is a weird function that ignores its input and just returns 0."
   ]
  },
  {
   "cell_type": "markdown",
   "metadata": {},
   "source": [
    "Below, `g` calls `h` will a smaller value of `n`, and then adds 1 to the result."
   ]
  },
  {
   "cell_type": "code",
   "execution_count": 42,
   "metadata": {},
   "outputs": [],
   "source": [
    "def g(n):\n",
    "    print(\"Starting g with argument\", n)\n",
    "    value = h(n-1) + 1\n",
    "    print(\"Ending g with value\", value)\n",
    "    return value"
   ]
  },
  {
   "cell_type": "code",
   "execution_count": 43,
   "metadata": {},
   "outputs": [
    {
     "name": "stdout",
     "output_type": "stream",
     "text": [
      "Starting g with argument 10\n",
      "Starting h with argument 9\n",
      "Ending h with value 0\n",
      "Ending g with value 1\n"
     ]
    },
    {
     "data": {
      "text/plain": [
       "1"
      ]
     },
     "execution_count": 43,
     "metadata": {},
     "output_type": "execute_result"
    }
   ],
   "source": [
    "g(10)"
   ]
  },
  {
   "cell_type": "markdown",
   "metadata": {},
   "source": [
    "Let's look at the _order_ of the print statements:\n",
    "\n",
    "1. We start `g`\n",
    "2. We start `h`\n",
    "3. We end `h`\n",
    "4. We end `g`\n",
    "\n",
    "This is critical to understanding what happens next."
   ]
  },
  {
   "cell_type": "code",
   "execution_count": 44,
   "metadata": {},
   "outputs": [],
   "source": [
    "def f(n):\n",
    "    print(\"Starting f with argument\", n)\n",
    "    value = g(n-1) + 1\n",
    "    print(\"Ending f with value\", value)\n",
    "    return value"
   ]
  },
  {
   "cell_type": "code",
   "execution_count": 45,
   "metadata": {},
   "outputs": [
    {
     "name": "stdout",
     "output_type": "stream",
     "text": [
      "Starting f with argument 11\n",
      "Starting g with argument 10\n",
      "Starting h with argument 9\n",
      "Ending h with value 0\n",
      "Ending g with value 1\n",
      "Ending f with value 2\n"
     ]
    },
    {
     "data": {
      "text/plain": [
       "2"
      ]
     },
     "execution_count": 45,
     "metadata": {},
     "output_type": "execute_result"
    }
   ],
   "source": [
    "result = f(11)\n",
    "result"
   ]
  },
  {
   "cell_type": "markdown",
   "metadata": {},
   "source": [
    "Let's remove some of the print statements to make things more compact:"
   ]
  },
  {
   "cell_type": "code",
   "execution_count": 46,
   "metadata": {},
   "outputs": [],
   "source": [
    "def f(n):\n",
    "    print(\"Starting f with argument\", n)\n",
    "    return g(n-1) + 1\n",
    "\n",
    "\n",
    "def g(n):\n",
    "    print(\"Starting g with argument\", n)\n",
    "    return h(n-1) + 1\n",
    "\n",
    "\n",
    "def h(n):\n",
    "    print(\"Starting h with argument\", n)\n",
    "    return 0"
   ]
  },
  {
   "cell_type": "code",
   "execution_count": 47,
   "metadata": {},
   "outputs": [
    {
     "name": "stdout",
     "output_type": "stream",
     "text": [
      "Starting f with argument 11\n",
      "Starting g with argument 10\n",
      "Starting h with argument 9\n"
     ]
    },
    {
     "data": {
      "text/plain": [
       "2"
      ]
     },
     "execution_count": 47,
     "metadata": {},
     "output_type": "execute_result"
    }
   ],
   "source": [
    "f(11)"
   ]
  },
  {
   "cell_type": "markdown",
   "metadata": {},
   "source": [
    "So far, this isn't interesting because we're not using `n` for anything. We get the same result, $2$, for any value of `n`:"
   ]
  },
  {
   "cell_type": "code",
   "execution_count": 48,
   "metadata": {},
   "outputs": [
    {
     "name": "stdout",
     "output_type": "stream",
     "text": [
      "Starting f with argument 1000\n",
      "Starting g with argument 999\n",
      "Starting h with argument 998\n"
     ]
    },
    {
     "data": {
      "text/plain": [
       "2"
      ]
     },
     "execution_count": 48,
     "metadata": {},
     "output_type": "execute_result"
    }
   ],
   "source": [
    "f(1000)"
   ]
  },
  {
   "cell_type": "markdown",
   "metadata": {},
   "source": [
    "Now look at this code (we're getting close to the punch line):"
   ]
  },
  {
   "cell_type": "code",
   "execution_count": 49,
   "metadata": {},
   "outputs": [],
   "source": [
    "def f(n):\n",
    "    print(\"Starting f with argument\", n)\n",
    "    if n == 0:\n",
    "        return 0\n",
    "    else:\n",
    "        return g(n-1) + 1\n",
    "\n",
    "\n",
    "def g(n):\n",
    "    print(\"Starting g with argument\", n)\n",
    "    if n == 0:\n",
    "        return 0\n",
    "    else:\n",
    "        return h(n-1) + 1\n",
    "\n",
    "\n",
    "def h(n):\n",
    "    print(\"Starting h with argument\", n)\n",
    "    if n == 0:\n",
    "        return 0\n",
    "    else:\n",
    "        return i(n-1) + 1\n",
    "\n",
    "# ...\n",
    "# ..."
   ]
  },
  {
   "cell_type": "code",
   "execution_count": 51,
   "metadata": {},
   "outputs": [
    {
     "name": "stdout",
     "output_type": "stream",
     "text": [
      "Starting f with argument 1\n",
      "Starting g with argument 0\n"
     ]
    },
    {
     "data": {
      "text/plain": [
       "1"
      ]
     },
     "execution_count": 51,
     "metadata": {},
     "output_type": "execute_result"
    }
   ],
   "source": [
    "f(1)"
   ]
  },
  {
   "cell_type": "code",
   "execution_count": 52,
   "metadata": {},
   "outputs": [
    {
     "name": "stdout",
     "output_type": "stream",
     "text": [
      "Starting g with argument 1\n",
      "Starting h with argument 0\n"
     ]
    },
    {
     "data": {
      "text/plain": [
       "1"
      ]
     },
     "execution_count": 52,
     "metadata": {},
     "output_type": "execute_result"
    }
   ],
   "source": [
    "g(1)"
   ]
  },
  {
   "cell_type": "markdown",
   "metadata": {},
   "source": [
    "This code actually uses `n`. Here's what it `f` outputs\n",
    "\n",
    "|  `n`   |   `f(n)` |\n",
    "|--------|--------|\n",
    "| 0      |    0   |\n",
    "| 1      |    1   |\n",
    "| 2      |    2   |\n",
    "| 3+     | error  |\n"
   ]
  },
  {
   "cell_type": "code",
   "execution_count": null,
   "metadata": {},
   "outputs": [],
   "source": [
    "f(0)"
   ]
  },
  {
   "cell_type": "code",
   "execution_count": null,
   "metadata": {},
   "outputs": [],
   "source": [
    "f(1)"
   ]
  },
  {
   "cell_type": "code",
   "execution_count": null,
   "metadata": {},
   "outputs": [],
   "source": [
    "f(2)"
   ]
  },
  {
   "cell_type": "code",
   "execution_count": null,
   "metadata": {},
   "outputs": [],
   "source": [
    "f(3)"
   ]
  },
  {
   "cell_type": "markdown",
   "metadata": {},
   "source": [
    "And now the key insight: all of the functions above are _exactly the same_. They check if `n` is zero. If so, they return zero. Otherwise, they call a function _identical to themselves_ with argument `n-1`, add `1` to the result, and return it.\n",
    "\n",
    "So why write"
   ]
  },
  {
   "cell_type": "code",
   "execution_count": null,
   "metadata": {},
   "outputs": [],
   "source": [
    "def f(n):\n",
    "    if n == 0:\n",
    "        return 0\n",
    "    else:\n",
    "        return g(n-1) + 1\n",
    "\n",
    "# def g(n):\n",
    "#     ...\n",
    "#\n",
    "# def h(n):\n",
    "#     ..."
   ]
  },
  {
   "cell_type": "markdown",
   "metadata": {},
   "source": [
    "a million times when you can just write"
   ]
  },
  {
   "cell_type": "code",
   "execution_count": 65,
   "metadata": {},
   "outputs": [],
   "source": [
    "def f(n):\n",
    "    if n == 0: # base case\n",
    "        return 0\n",
    "    else:\n",
    "        return f(n-1) + 1"
   ]
  },
  {
   "cell_type": "code",
   "execution_count": 58,
   "metadata": {},
   "outputs": [
    {
     "name": "stdout",
     "output_type": "stream",
     "text": [
      "Starting f with n= 1\n",
      "Starting f with n= 0\n"
     ]
    },
    {
     "data": {
      "text/plain": [
       "1"
      ]
     },
     "execution_count": 58,
     "metadata": {},
     "output_type": "execute_result"
    }
   ],
   "source": [
    "f(1)"
   ]
  },
  {
   "cell_type": "code",
   "execution_count": 59,
   "metadata": {},
   "outputs": [
    {
     "name": "stdout",
     "output_type": "stream",
     "text": [
      "Starting f with n= 2\n",
      "Starting f with n= 1\n",
      "Starting f with n= 0\n"
     ]
    },
    {
     "data": {
      "text/plain": [
       "2"
      ]
     },
     "execution_count": 59,
     "metadata": {},
     "output_type": "execute_result"
    }
   ],
   "source": [
    "f(2)"
   ]
  },
  {
   "cell_type": "code",
   "execution_count": 60,
   "metadata": {},
   "outputs": [
    {
     "name": "stdout",
     "output_type": "stream",
     "text": [
      "Starting f with n= 3\n",
      "Starting f with n= 2\n",
      "Starting f with n= 1\n",
      "Starting f with n= 0\n"
     ]
    },
    {
     "data": {
      "text/plain": [
       "3"
      ]
     },
     "execution_count": 60,
     "metadata": {},
     "output_type": "execute_result"
    }
   ],
   "source": [
    "f(3)"
   ]
  },
  {
   "cell_type": "markdown",
   "metadata": {},
   "source": [
    "BAM! Recursion. \n",
    "\n",
    "- It is just incidental that all the functions have the same name, `f`. \n",
    "- It may be helpful for you to think of them as separate. \n",
    "- They do live in separate universes, with separate variables, like `n` and all other variables. \n",
    "- The fact that they are all named `f` is just a matter of convenience, to avoid writing an infinite amount of code."
   ]
  },
  {
   "cell_type": "code",
   "execution_count": 64,
   "metadata": {},
   "outputs": [],
   "source": [
    "# f(-1)"
   ]
  },
  {
   "cell_type": "markdown",
   "metadata": {},
   "source": [
    "Let's put our print string back in..."
   ]
  },
  {
   "cell_type": "code",
   "execution_count": 61,
   "metadata": {},
   "outputs": [],
   "source": [
    "def f(n):\n",
    "    print(\"Starting f with argument\", n)\n",
    "    if n == 0:\n",
    "        print(\"Ending f with n =\", n, \"and returning 0 (base case)\")\n",
    "        return 0\n",
    "    else:\n",
    "        value = f(n-1) + 1\n",
    "        print(\"Ending f with n =\", n, \"and returning\", value)\n",
    "        return value"
   ]
  },
  {
   "cell_type": "code",
   "execution_count": 62,
   "metadata": {},
   "outputs": [
    {
     "name": "stdout",
     "output_type": "stream",
     "text": [
      "Starting f with argument 2\n",
      "Starting f with argument 1\n",
      "Starting f with argument 0\n",
      "Ending f with n = 0 and returning 0 (base case)\n",
      "Ending f with n = 1 and returning 1\n",
      "Ending f with n = 2 and returning 2\n"
     ]
    },
    {
     "data": {
      "text/plain": [
       "2"
      ]
     },
     "execution_count": 62,
     "metadata": {},
     "output_type": "execute_result"
    }
   ],
   "source": [
    "f(2)"
   ]
  },
  {
   "cell_type": "markdown",
   "metadata": {},
   "source": [
    "- Does this look familiar? It's the same \"call stack\" we saw before with our `f`, `g`, and `h`. Except now all the functions are named `f`. \n",
    "- The `if n == 0` part of the code is called the _base case_. This is like the function `h` earlier. It is the function that does _not_ call itself, and it's what causes the recursion to terminate.\n",
    "- The call to itself, in this case `f(n-1)` is the recursive step."
   ]
  },
  {
   "cell_type": "code",
   "execution_count": null,
   "metadata": {},
   "outputs": [],
   "source": [
    "f(5)"
   ]
  },
  {
   "cell_type": "markdown",
   "metadata": {},
   "source": [
    "## Break (5 min)"
   ]
  },
  {
   "cell_type": "markdown",
   "metadata": {},
   "source": [
    "## Binary search, revisited (5 min)\n",
    "\n",
    "- Let's return to binary search from [Lecture 2](https://github.ubc.ca/MDS-2019-20/DSCI_512_alg-data-struct_students/blob/master/lectures/lecture2.ipynb).\n",
    "- The code is rather messy.\n",
    "- Here is a case where recursion works beautifully."
   ]
  },
  {
   "cell_type": "code",
   "execution_count": 66,
   "metadata": {},
   "outputs": [],
   "source": [
    "def binary_search(data, key):\n",
    "    \"\"\"\n",
    "    Searches the key in data using binary search. \n",
    "    Returns True if found and False otherwise. \n",
    "\n",
    "    Parameters\n",
    "    ----------\n",
    "    data : list\n",
    "        the elements to search within\n",
    "    key : int\n",
    "        the key to search for\n",
    "\n",
    "    Returns\n",
    "    -------\n",
    "    bool\n",
    "        is the key contained in the data?\n",
    "\n",
    "    Examples\n",
    "    --------\n",
    "    >>> binary_search([1, 7, 35, 45, 67], 3)\n",
    "    False\n",
    "    >>> binary_search([1, 7, 35, 45, 67], 7)\n",
    "    True\n",
    "    \"\"\"\n",
    "    if len(data) == 1:\n",
    "        return data[0] == key\n",
    "\n",
    "    mid = len(data)//2\n",
    "    if key < data[mid]:\n",
    "        return binary_search(data[:mid], key)\n",
    "    else:\n",
    "        return binary_search(data[mid:], key)"
   ]
  },
  {
   "cell_type": "code",
   "execution_count": 67,
   "metadata": {},
   "outputs": [],
   "source": [
    "data = [-12, 4, 7, 9, 45, 987, 987, 1000, 2000]\n",
    "\n",
    "# Test cases for binary search\n",
    "# key is the first element in the list\n",
    "assert binary_search(data, -12)\n",
    "\n",
    "# key is the last element in the list\n",
    "assert binary_search(data, 2000)\n",
    "\n",
    "# key is the middle element in the list\n",
    "assert binary_search(data, 45)\n",
    "\n",
    "# key occurs multiple times in the list\n",
    "assert binary_search(data, 987)\n",
    "\n",
    "# key is larger than the largest element in the list\n",
    "assert not binary_search(data, 3000)\n",
    "\n",
    "# key is smaller than the smallest element in the list\n",
    "assert not binary_search(data, -18)"
   ]
  },
  {
   "cell_type": "markdown",
   "metadata": {},
   "source": [
    "- So elegant!\n",
    "- And also maps more clearly to our verbal description of the algorithm (think of the phone book)."
   ]
  },
  {
   "cell_type": "markdown",
   "metadata": {},
   "source": [
    "## Multiple recursive calls (20 min)"
   ]
  },
  {
   "cell_type": "markdown",
   "metadata": {},
   "source": [
    "Consider the function below."
   ]
  },
  {
   "cell_type": "code",
   "execution_count": 68,
   "metadata": {},
   "outputs": [],
   "source": [
    "def f(n):\n",
    "    if n == 1 or n == 2:\n",
    "        return 1\n",
    "    else: \n",
    "        return f(n-1) + f(n-2)"
   ]
  },
  {
   "cell_type": "markdown",
   "metadata": {},
   "source": [
    "What is returned by `f(3)`?\n",
    "What is returned by `f(4)`?\n"
   ]
  },
  {
   "cell_type": "code",
   "execution_count": 69,
   "metadata": {},
   "outputs": [
    {
     "data": {
      "text/plain": [
       "2"
      ]
     },
     "execution_count": 69,
     "metadata": {},
     "output_type": "execute_result"
    }
   ],
   "source": [
    "f(3)"
   ]
  },
  {
   "cell_type": "code",
   "execution_count": 70,
   "metadata": {},
   "outputs": [
    {
     "data": {
      "text/plain": [
       "3"
      ]
     },
     "execution_count": 70,
     "metadata": {},
     "output_type": "execute_result"
    }
   ],
   "source": [
    "f(4)"
   ]
  },
  {
   "cell_type": "code",
   "execution_count": 71,
   "metadata": {},
   "outputs": [],
   "source": [
    "def f(n):\n",
    "    print(\"Starting f with argument\", n)\n",
    "    if n == 1 or n == 2:\n",
    "        return 1\n",
    "    else:\n",
    "        return f(n-1) + f(n-2)"
   ]
  },
  {
   "cell_type": "code",
   "execution_count": 72,
   "metadata": {},
   "outputs": [
    {
     "name": "stdout",
     "output_type": "stream",
     "text": [
      "Starting f with argument 4\n",
      "Starting f with argument 3\n",
      "Starting f with argument 2\n",
      "Starting f with argument 1\n",
      "Starting f with argument 2\n"
     ]
    },
    {
     "data": {
      "text/plain": [
       "3"
      ]
     },
     "execution_count": 72,
     "metadata": {},
     "output_type": "execute_result"
    }
   ],
   "source": [
    "f(4)"
   ]
  },
  {
   "cell_type": "markdown",
   "metadata": {},
   "source": [
    "Note this is equivalent to:"
   ]
  },
  {
   "cell_type": "code",
   "execution_count": null,
   "metadata": {},
   "outputs": [],
   "source": [
    "def f(n):\n",
    "    print(\"Starting f with argument\", n)\n",
    "    if n == 1 or n == 2:\n",
    "        return 1\n",
    "    val1 = f(n-1)\n",
    "    val2 = f(n-2)\n",
    "    return val1 + val2\n",
    "\n",
    "f(4)"
   ]
  },
  {
   "cell_type": "markdown",
   "metadata": {},
   "source": [
    "In other words, there's no significance to the two recursive calls being on the same line of code."
   ]
  },
  {
   "cell_type": "markdown",
   "metadata": {},
   "source": [
    "Let's draw out the execution tree."
   ]
  },
  {
   "cell_type": "markdown",
   "metadata": {},
   "source": [
    "- First, `f(4)` is called.\n",
    "- The first thing it does is call `f(n-1) = f(3)`\n",
    "\n",
    "```\n",
    "            f(4)\n",
    "           /     \n",
    "        f(3)  \n",
    "```\n",
    "\n",
    "\n",
    "- The first thing `f(3)` does is call `f(n-1)=f(2)`.\n",
    "\n",
    "\n",
    "```\n",
    "            f(4)\n",
    "           /    \n",
    "        f(3)  \n",
    "        /   \n",
    "     f(2)  \n",
    "```\n",
    "\n",
    "- `f(2)` triggers the base case and immediately returns $1$.\n",
    "\n",
    "\n",
    "```\n",
    "            f(4)\n",
    "           /    \n",
    "        f(3)  \n",
    "        /1    \n",
    "     f(2)=1  \n",
    "```\n",
    "\n",
    "- The return value $1$ is passed back up to `f(3)`. \n",
    "- `f(3)` is trying to call `f(n-1) + f(n-2)`, and the first of those has just returned with value $1$.\n",
    "- So it now proceeds to call the second one, namely `f(n-2)` or `f(1)`.\n",
    "\n",
    "\n",
    "```\n",
    "            f(4)\n",
    "           /      \n",
    "         f(3)  \n",
    "        /1   \\\n",
    "     f(2)=1  f(1)\n",
    "```\n",
    "\n",
    "- `f(1)` triggers the base case and immediately returns $1$.\n",
    "- The return value $1$ is passed back up to `f(3)`. \n",
    "\n",
    "\n",
    "```\n",
    "            f(4)\n",
    "           /     \n",
    "         f(3)\n",
    "        /1   \\1\n",
    "     f(2)=1  f(1)=1         \n",
    "```\n",
    "\n",
    "- `f(3)` is now done, because it has computed $f(n-1) + f(n-2) = 1 + 1 = 2$\n",
    "\n",
    "\n",
    "```\n",
    "            f(4)\n",
    "           /2      \n",
    "         f(3)=2 \n",
    "        /1   \\1\n",
    "     f(2)=1  f(1)=1         \n",
    "```\n",
    "\n",
    "- It passes this value, $2$ up to its caller, namely `f(4)`.\n",
    "- `f(4)` is trying to call `f(n-1) + f(n-2)`, and the first of those has just returned with value $2$.\n",
    "- So it now proceeds to call the second one, namely `f(n-2)` or `f(2)`.\n",
    "\n",
    "\n",
    "```\n",
    "             f(4)\n",
    "           /2    \\ \n",
    "        f(3)=2  f(2)\n",
    "        /1   \\1\n",
    "     f(2)=1  f(1)=1         \n",
    "```\n",
    "\n",
    "- `f(2)` triggers the base case and immediately returns $1$.\n",
    "\n",
    "\n",
    "```\n",
    "             f(4)\n",
    "           /2    \\1 \n",
    "        f(3)=2  f(2)=1\n",
    "        /1   \\1\n",
    "     f(2)=1  f(1)=1         \n",
    "```\n",
    "\n",
    "- `f(4)` is now done, because it has computed $f(n-1) + f(n-2) = 2 + 1 = 3$\n",
    "\n",
    "\n",
    "```\n",
    "            f(4)=3\n",
    "           /2    \\1\n",
    "        f(3)=2  f(2)=1\n",
    "        /1   \\1\n",
    "     f(2)=1  f(1)=1         \n",
    "```"
   ]
  },
  {
   "cell_type": "markdown",
   "metadata": {},
   "source": [
    "- The function above implements the [Fibonacci sequence](https://en.wikipedia.org/wiki/Fibonacci_number): $F_n=F_{n-1}+F_{n-2}$.\n",
    "- In this case we need 2 base cases to get things started, because $F_n$ depends on the previous 2 steps.\n",
    "- Recursive functions don't need to be sequences, as we'll see.\n",
    "- The time complexity here is something like $O(2^n)$ \n",
    "  - (Slightly less than $2^n$ steps but close enough.)\n",
    "  - It is generally true, rougly speaking, that if a recursive function calls itself $k$ times and the \"depth\" of the recursion is $n$, then the time complexity is $k^n$. More on this next class.\n",
    "- This is not a good implementation for the Fibonacci numbers!\n",
    "  - More on this in lecture 8."
   ]
  },
  {
   "cell_type": "markdown",
   "metadata": {},
   "source": [
    "Revisiting the binary search code above:\n",
    "\n",
    "```python\n",
    "def binary_search(data, key):\n",
    "    if len(data) == 1:\n",
    "        return data[0] == key   \n",
    "\n",
    "    mid = len(data)//2\n",
    "    if key < data[mid]:\n",
    "        return binary_search(data[:mid], key)\n",
    "    else:\n",
    "        return binary_search(data[mid:], key)\n",
    "```\n",
    "\n",
    "**Question:** Is this function making multiple recursive calls and thus running in $O(2^n)$ time?"
   ]
  },
  {
   "cell_type": "markdown",
   "metadata": {},
   "source": [
    "<br><br><br><br><br><br>\n",
    "**Answer:** No! Because of the `if/else`, it's only calling itself once.\n",
    "\n",
    "- Does that mean it runs in $O(n)$ time?\n",
    "- No, in fact, it runs in $O(\\log n)$ because it calls itself on a list of 1/2 the size each time. \n",
    "  - We discussed this last class.\n",
    "- We can't just read off the running time from the code without thinking carefully about it."
   ]
  }
 ],
 "metadata": {
  "kernelspec": {
   "display_name": "Python [conda env:dsci512env]",
   "language": "python",
   "name": "conda-env-dsci512env-py"
  },
  "language_info": {
   "codemirror_mode": {
    "name": "ipython",
    "version": 3
   },
   "file_extension": ".py",
   "mimetype": "text/x-python",
   "name": "python",
   "nbconvert_exporter": "python",
   "pygments_lexer": "ipython3",
   "version": "3.9.7"
  }
 },
 "nbformat": 4,
 "nbformat_minor": 4
}
